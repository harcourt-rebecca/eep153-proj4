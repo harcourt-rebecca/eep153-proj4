{
 "cells": [
  {
   "cell_type": "markdown",
   "metadata": {},
   "source": [
    "## Preface\n",
    "\n"
   ]
  },
  {
   "cell_type": "markdown",
   "metadata": {},
   "source": [
    "First, load relevant dataset:\n",
    "\n"
   ]
  },
  {
   "cell_type": "code",
   "execution_count": 1,
   "metadata": {},
   "outputs": [
    {
     "name": "stdout",
     "output_type": "stream",
     "text": [
      "Requirement already satisfied: CFEdemands in /srv/app/venv/lib/python3.6/site-packages\r\n"
     ]
    },
    {
     "data": {
      "text/plain": [
       "<xarray.Result>\n",
       "Dimensions:           (i: 36, j: 13562, k: 8, kp: 8, m: 1, t: 4)\n",
       "Coordinates:\n",
       "  * j                 (j) object '0001-001' '0002-001' ... '905012325008102'\n",
       "  * i                 (i) object 'Beef Including Minced Sausage' ... 'Yams/Cocoyams'\n",
       "  * k                 (k) object 'C 0-2' 'C 2-5' 'C 6-9' ... 'Women' 'log HSize'\n",
       "  * kp                (kp) object 'C 0-2' 'C 10-14' ... 'Women' 'log HSize'\n",
       "  * t                 (t) int32 2008 2010 2012 2014\n",
       "  * m                 (m) int32 1\n",
       "Data variables:\n",
       "    alpha             (i) float64 7.48 6.734 6.482 6.133 ... 4.978 5.052 6.358\n",
       "    beta              (i) float64 1.213 1.286 1.002 1.239 ... 1.538 0.5749 0.806\n",
       "    delta             (k, i) float64 ...\n",
       "    prices            (i, t, m) float64 2.6e+03 3e+03 3.067e+03 ... 1.101 1.25\n",
       "    characteristics   (k, j, t, m) float64 nan nan 0.0 nan ... nan 0.0 nan nan\n",
       "    loglambdas        (j, t, m) float64 ...\n",
       "    a                 (i, t, m) float64 ...\n",
       "    yhat              float64 ...\n",
       "    ce                (j, t, m, i) float64 ...\n",
       "    cehat             (j, t, m, i) float64 ...\n",
       "    e                 float64 ...\n",
       "    delta_covariance  (i, k, kp) float64 ...\n",
       "    se_delta          (i, k) float64 ...\n",
       "    se_beta           float64 ...\n",
       "    se_alpha          (i) float64 ...\n",
       "    se_a              (i, t, m) float64 ...\n",
       "    y                 (i, j, t, m) float64 nan nan 7.601 nan ... nan nan nan nan\n",
       "    logp              (i, t, m) float64 7.863 8.006 8.028 ... 0.09623 0.2231\n",
       "    z                 (k, j, t, m) float64 nan nan 0.0 nan ... nan 0.0 nan nan\n",
       "Attributes:\n",
       "    firstround:            2008\n",
       "    min_proportion_items:  0.125\n",
       "    min_xproducts:         30\n",
       "    useless_expenditures:  True\n",
       "    stderr_tol:            0.01\n",
       "    indices:               Indices(j='j', t='t', m='m', i='i', k='k')\n",
       "    verbose:               False"
      ]
     },
     "execution_count": 1,
     "metadata": {},
     "output_type": "execute_result"
    }
   ],
   "source": [
    "# Install CFEdemands and load the tanzanian dataset.\n",
    "\n",
    "!pip install CFEdemands\n",
    "import cfe\n",
    "import pandas as pd\n",
    "import numpy as np\n",
    "\n",
    "r = cfe.from_dataset('TanzanianNPS/tanzanian_nps.ds')\n",
    "r"
   ]
  },
  {
   "cell_type": "markdown",
   "metadata": {},
   "source": [
    "Also, choose reference prices:\n",
    "\n"
   ]
  },
  {
   "cell_type": "code",
   "execution_count": 2,
   "metadata": {},
   "outputs": [
    {
     "data": {
      "text/html": [
       "<div>\n",
       "<style scoped>\n",
       "    .dataframe tbody tr th:only-of-type {\n",
       "        vertical-align: middle;\n",
       "    }\n",
       "\n",
       "    .dataframe tbody tr th {\n",
       "        vertical-align: top;\n",
       "    }\n",
       "\n",
       "    .dataframe thead th {\n",
       "        text-align: right;\n",
       "    }\n",
       "</style>\n",
       "<table border=\"1\" class=\"dataframe\">\n",
       "  <thead>\n",
       "    <tr style=\"text-align: right;\">\n",
       "      <th></th>\n",
       "      <th>t</th>\n",
       "      <th>m</th>\n",
       "      <th>prices</th>\n",
       "    </tr>\n",
       "    <tr>\n",
       "      <th>i</th>\n",
       "      <th></th>\n",
       "      <th></th>\n",
       "      <th></th>\n",
       "    </tr>\n",
       "  </thead>\n",
       "  <tbody>\n",
       "    <tr>\n",
       "      <th>Beef Including Minced Sausage</th>\n",
       "      <td>2014</td>\n",
       "      <td>1</td>\n",
       "      <td>2500.000000</td>\n",
       "    </tr>\n",
       "    <tr>\n",
       "      <th>Bottled/Canned Soft Drinks (Soda, Juice, Water)</th>\n",
       "      <td>2014</td>\n",
       "      <td>1</td>\n",
       "      <td>1.714286</td>\n",
       "    </tr>\n",
       "    <tr>\n",
       "      <th>Bread</th>\n",
       "      <td>2014</td>\n",
       "      <td>1</td>\n",
       "      <td>2.000000</td>\n",
       "    </tr>\n",
       "    <tr>\n",
       "      <th>Buns, Cakes And Biscuits</th>\n",
       "      <td>2014</td>\n",
       "      <td>1</td>\n",
       "      <td>2.000000</td>\n",
       "    </tr>\n",
       "    <tr>\n",
       "      <th>Cassava Fresh</th>\n",
       "      <td>2014</td>\n",
       "      <td>1</td>\n",
       "      <td>1.200000</td>\n",
       "    </tr>\n",
       "    <tr>\n",
       "      <th>Chicken And Other Poultry</th>\n",
       "      <td>2014</td>\n",
       "      <td>1</td>\n",
       "      <td>8.333333</td>\n",
       "    </tr>\n",
       "    <tr>\n",
       "      <th>Citrus Fruits (Oranges, Lemon, Tangerines, Etc.)</th>\n",
       "      <td>2014</td>\n",
       "      <td>1</td>\n",
       "      <td>1.363636</td>\n",
       "    </tr>\n",
       "    <tr>\n",
       "      <th>Coconuts (Mature/Immature)</th>\n",
       "      <td>2014</td>\n",
       "      <td>1</td>\n",
       "      <td>1.428571</td>\n",
       "    </tr>\n",
       "    <tr>\n",
       "      <th>Cooking Bananas, Plantains</th>\n",
       "      <td>2014</td>\n",
       "      <td>1</td>\n",
       "      <td>1.250000</td>\n",
       "    </tr>\n",
       "    <tr>\n",
       "      <th>Cooking Oil</th>\n",
       "      <td>2014</td>\n",
       "      <td>1</td>\n",
       "      <td>3.000000</td>\n",
       "    </tr>\n",
       "    <tr>\n",
       "      <th>Dried/Salted/Canned Fish And Seafood (Incl. Dagaa)</th>\n",
       "      <td>2014</td>\n",
       "      <td>1</td>\n",
       "      <td>4.597701</td>\n",
       "    </tr>\n",
       "    <tr>\n",
       "      <th>Eggs</th>\n",
       "      <td>2014</td>\n",
       "      <td>1</td>\n",
       "      <td>300.000000</td>\n",
       "    </tr>\n",
       "    <tr>\n",
       "      <th>Fresh Fish And Seafood (Including Dagaa)</th>\n",
       "      <td>2014</td>\n",
       "      <td>1</td>\n",
       "      <td>5.000000</td>\n",
       "    </tr>\n",
       "    <tr>\n",
       "      <th>Fresh Milk</th>\n",
       "      <td>2014</td>\n",
       "      <td>1</td>\n",
       "      <td>633.333333</td>\n",
       "    </tr>\n",
       "    <tr>\n",
       "      <th>Goat Meat</th>\n",
       "      <td>2014</td>\n",
       "      <td>1</td>\n",
       "      <td>10.000000</td>\n",
       "    </tr>\n",
       "    <tr>\n",
       "      <th>Groundnuts In Shell/Shelled</th>\n",
       "      <td>2014</td>\n",
       "      <td>1</td>\n",
       "      <td>2.400000</td>\n",
       "    </tr>\n",
       "    <tr>\n",
       "      <th>Honey, Syrups, Jams, Marmalade, Jellies, Canned Fruits</th>\n",
       "      <td>2014</td>\n",
       "      <td>1</td>\n",
       "      <td>6.666667</td>\n",
       "    </tr>\n",
       "    <tr>\n",
       "      <th>Irish Potatoes</th>\n",
       "      <td>2014</td>\n",
       "      <td>1</td>\n",
       "      <td>2.000000</td>\n",
       "    </tr>\n",
       "    <tr>\n",
       "      <th>Macaroni, Spaghetti</th>\n",
       "      <td>2014</td>\n",
       "      <td>1</td>\n",
       "      <td>2.888889</td>\n",
       "    </tr>\n",
       "    <tr>\n",
       "      <th>Maize (Flour)</th>\n",
       "      <td>2014</td>\n",
       "      <td>1</td>\n",
       "      <td>750.000000</td>\n",
       "    </tr>\n",
       "    <tr>\n",
       "      <th>Mangoes, Avocadoes And Other Fruits</th>\n",
       "      <td>2014</td>\n",
       "      <td>1</td>\n",
       "      <td>1.265823</td>\n",
       "    </tr>\n",
       "    <tr>\n",
       "      <th>Milk Products (Like Cream, Cheese, Yoghurt Etc)</th>\n",
       "      <td>2014</td>\n",
       "      <td>1</td>\n",
       "      <td>500.000000</td>\n",
       "    </tr>\n",
       "    <tr>\n",
       "      <th>Millet And Sorghum (Flour)</th>\n",
       "      <td>2014</td>\n",
       "      <td>1</td>\n",
       "      <td>400.000000</td>\n",
       "    </tr>\n",
       "    <tr>\n",
       "      <th>Onions, Tomatoes, Carrots And Green Pepper, Other Viungo</th>\n",
       "      <td>2014</td>\n",
       "      <td>1</td>\n",
       "      <td>1.400000</td>\n",
       "    </tr>\n",
       "    <tr>\n",
       "      <th>Other Spices</th>\n",
       "      <td>2014</td>\n",
       "      <td>1</td>\n",
       "      <td>6.000000</td>\n",
       "    </tr>\n",
       "    <tr>\n",
       "      <th>Peas, Beans, Lentils And Other Pulses</th>\n",
       "      <td>2014</td>\n",
       "      <td>1</td>\n",
       "      <td>2.400000</td>\n",
       "    </tr>\n",
       "    <tr>\n",
       "      <th>Rice (Husked)</th>\n",
       "      <td>2014</td>\n",
       "      <td>1</td>\n",
       "      <td>1300.000000</td>\n",
       "    </tr>\n",
       "    <tr>\n",
       "      <th>Ripe Bananas</th>\n",
       "      <td>2014</td>\n",
       "      <td>1</td>\n",
       "      <td>1.388889</td>\n",
       "    </tr>\n",
       "    <tr>\n",
       "      <th>Salt</th>\n",
       "      <td>2014</td>\n",
       "      <td>1</td>\n",
       "      <td>1.000000</td>\n",
       "    </tr>\n",
       "    <tr>\n",
       "      <th>Spinach, Cabbage And Other Green Vegetables</th>\n",
       "      <td>2014</td>\n",
       "      <td>1</td>\n",
       "      <td>1.086957</td>\n",
       "    </tr>\n",
       "    <tr>\n",
       "      <th>Sugar</th>\n",
       "      <td>2014</td>\n",
       "      <td>1</td>\n",
       "      <td>2.000000</td>\n",
       "    </tr>\n",
       "    <tr>\n",
       "      <th>Sugarcane</th>\n",
       "      <td>2014</td>\n",
       "      <td>1</td>\n",
       "      <td>0.666667</td>\n",
       "    </tr>\n",
       "    <tr>\n",
       "      <th>Sweet Potatoes</th>\n",
       "      <td>2014</td>\n",
       "      <td>1</td>\n",
       "      <td>1.000000</td>\n",
       "    </tr>\n",
       "    <tr>\n",
       "      <th>Sweets</th>\n",
       "      <td>2014</td>\n",
       "      <td>1</td>\n",
       "      <td>10.000000</td>\n",
       "    </tr>\n",
       "    <tr>\n",
       "      <th>Tea Dry</th>\n",
       "      <td>2014</td>\n",
       "      <td>1</td>\n",
       "      <td>10.000000</td>\n",
       "    </tr>\n",
       "    <tr>\n",
       "      <th>Yams/Cocoyams</th>\n",
       "      <td>2014</td>\n",
       "      <td>1</td>\n",
       "      <td>1.250000</td>\n",
       "    </tr>\n",
       "  </tbody>\n",
       "</table>\n",
       "</div>"
      ],
      "text/plain": [
       "                                                       t  m       prices\n",
       "i                                                                       \n",
       "Beef Including Minced Sausage                       2014  1  2500.000000\n",
       "Bottled/Canned Soft Drinks (Soda, Juice, Water)     2014  1     1.714286\n",
       "Bread                                               2014  1     2.000000\n",
       "Buns, Cakes And Biscuits                            2014  1     2.000000\n",
       "Cassava Fresh                                       2014  1     1.200000\n",
       "Chicken And Other Poultry                           2014  1     8.333333\n",
       "Citrus Fruits (Oranges, Lemon, Tangerines, Etc.)    2014  1     1.363636\n",
       "Coconuts (Mature/Immature)                          2014  1     1.428571\n",
       "Cooking Bananas, Plantains                          2014  1     1.250000\n",
       "Cooking Oil                                         2014  1     3.000000\n",
       "Dried/Salted/Canned Fish And Seafood (Incl. Dagaa)  2014  1     4.597701\n",
       "Eggs                                                2014  1   300.000000\n",
       "Fresh Fish And Seafood (Including Dagaa)            2014  1     5.000000\n",
       "Fresh Milk                                          2014  1   633.333333\n",
       "Goat Meat                                           2014  1    10.000000\n",
       "Groundnuts In Shell/Shelled                         2014  1     2.400000\n",
       "Honey, Syrups, Jams, Marmalade, Jellies, Canned...  2014  1     6.666667\n",
       "Irish Potatoes                                      2014  1     2.000000\n",
       "Macaroni, Spaghetti                                 2014  1     2.888889\n",
       "Maize (Flour)                                       2014  1   750.000000\n",
       "Mangoes, Avocadoes And Other Fruits                 2014  1     1.265823\n",
       "Milk Products (Like Cream, Cheese, Yoghurt Etc)     2014  1   500.000000\n",
       "Millet And Sorghum (Flour)                          2014  1   400.000000\n",
       "Onions, Tomatoes, Carrots And Green Pepper, Oth...  2014  1     1.400000\n",
       "Other Spices                                        2014  1     6.000000\n",
       "Peas, Beans, Lentils And Other Pulses               2014  1     2.400000\n",
       "Rice (Husked)                                       2014  1  1300.000000\n",
       "Ripe Bananas                                        2014  1     1.388889\n",
       "Salt                                                2014  1     1.000000\n",
       "Spinach, Cabbage And Other Green Vegetables         2014  1     1.086957\n",
       "Sugar                                               2014  1     2.000000\n",
       "Sugarcane                                           2014  1     0.666667\n",
       "Sweet Potatoes                                      2014  1     1.000000\n",
       "Sweets                                              2014  1    10.000000\n",
       "Tea Dry                                             2014  1    10.000000\n",
       "Yams/Cocoyams                                       2014  1     1.250000"
      ]
     },
     "execution_count": 2,
     "metadata": {},
     "output_type": "execute_result"
    }
   ],
   "source": [
    "# Choose x (Budget) (e.g 0.0, 3927.94 6311.82 9838.72 80256.30)\n",
    "x = 6311 \n",
    "\n",
    "# Note selection of prices for 2014 for market 1\n",
    "p = r.prices.sel(t=2014, m=1).copy()\n",
    "\n",
    "# Set data from array to dataframe\n",
    "p.to_dataframe().fillna(1).squeeze()"
   ]
  },
  {
   "cell_type": "code",
   "execution_count": 21,
   "metadata": {},
   "outputs": [
    {
     "data": {
      "text/plain": [
       "array([ 727.6319759 ,  168.78      ,   94.30735631,  128.4551869 ,\n",
       "         17.45983852,  269.1758711 ,   34.87531459,  189.9735659 ,\n",
       "        235.8779425 ,  641.2571518 ,  572.55      ,  350.8914027 ,\n",
       "        404.9138551 ,  198.3965863 ,  741.6179233 ,  399.9226732 ,\n",
       "       2425.5       ,   48.31462149,  245.        ,  109.63      ,\n",
       "         36.87918642, 1286.458     ,    3.74488257,   81.90244474,\n",
       "       1491.035     ,   87.69044831,   99.46563945,   66.83104209,\n",
       "         69.23415187,   43.31081359,  129.2533937 ,  102.9136    ,\n",
       "         16.30105458, 1538.459     ,  720.2636049 ,   36.46746813])"
      ]
     },
     "execution_count": 21,
     "metadata": {},
     "output_type": "execute_result"
    }
   ],
   "source": [
    "newp = pd.read_csv('final-prices-our-prices-1.csv')\n",
    "p.values = newp.iloc[:,0].values\n",
    "p.values"
   ]
  },
  {
   "cell_type": "markdown",
   "metadata": {},
   "source": [
    "And with $(x,p)$ defined we can calculate example demands:\n",
    "\n"
   ]
  },
  {
   "cell_type": "code",
   "execution_count": 5,
   "metadata": {},
   "outputs": [
    {
     "data": {
      "text/plain": [
       "i\n",
       "Beef Including Minced Sausage                               0.668994\n",
       "Bottled/Canned Soft Drinks (Soda, Juice, Water)             1.638789\n",
       "Bread                                                       2.045531\n",
       "Buns, Cakes And Biscuits                                    1.072576\n",
       "Cassava Fresh                                               4.027293\n",
       "Chicken And Other Poultry                                   2.441531\n",
       "Citrus Fruits (Oranges, Lemon, Tangerines, Etc.)            4.788496\n",
       "Coconuts (Mature/Immature)                                  0.999447\n",
       "Cooking Bananas, Plantains                                  0.657926\n",
       "Cooking Oil                                                 0.158313\n",
       "Dried/Salted/Canned Fish And Seafood (Incl. Dagaa)          0.267142\n",
       "Eggs                                                        0.520003\n",
       "Fresh Fish And Seafood (Including Dagaa)                    0.500396\n",
       "Fresh Milk                                                  0.942740\n",
       "Goat Meat                                                   0.518735\n",
       "Groundnuts In Shell/Shelled                                 0.380267\n",
       "Honey, Syrups, Jams, Marmalade, Jellies, Canned Fruits      0.036490\n",
       "Irish Potatoes                                              3.468331\n",
       "Macaroni, Spaghetti                                         1.209644\n",
       "Maize (Flour)                                               1.089878\n",
       "Mangoes, Avocadoes And Other Fruits                         5.264935\n",
       "Milk Products (Like Cream, Cheese, Yoghurt Etc)             0.047442\n",
       "Millet And Sorghum (Flour)                                  7.144869\n",
       "Onions, Tomatoes, Carrots And Green Pepper, Other Viungo    3.339295\n",
       "Other Spices                                                0.019111\n",
       "Peas, Beans, Lentils And Other Pulses                       1.763484\n",
       "Rice (Husked)                                               3.874077\n",
       "Ripe Bananas                                                1.283931\n",
       "Salt                                                        0.891287\n",
       "Spinach, Cabbage And Other Green Vegetables                 2.854445\n",
       "Sugar                                                       1.118105\n",
       "Sugarcane                                                   0.564131\n",
       "Sweet Potatoes                                              3.908877\n",
       "Sweets                                                      0.004056\n",
       "Tea Dry                                                     0.205869\n",
       "Yams/Cocoyams                                               3.460273\n",
       "Name: quantities, dtype: float64"
      ]
     },
     "execution_count": 5,
     "metadata": {},
     "output_type": "execute_result"
    }
   ],
   "source": [
    "# Load our price to the demand system\n",
    "c=r.demands(x,p)\n",
    "c"
   ]
  },
  {
   "cell_type": "markdown",
   "metadata": {},
   "source": [
    "Finally, define a function to change a single price in the vector $p$:\n",
    "\n"
   ]
  },
  {
   "cell_type": "code",
   "execution_count": 6,
   "metadata": {},
   "outputs": [],
   "source": [
    "# Define a function to change a single price in the vector p for i (food item) :\n",
    "\n",
    "def my_prices(p0,p=p,i='Bread'):\n",
    "    p = p.copy()\n",
    "    p.loc[i] = p0\n",
    "    return p"
   ]
  },
  {
   "cell_type": "markdown",
   "metadata": {},
   "source": [
    "## Mapping to Nutrients\n",
    "\n"
   ]
  },
  {
   "cell_type": "markdown",
   "metadata": {},
   "source": [
    "We&rsquo;ve seen how to map prices and budgets into vectors of consumption\n",
    "quantities using `cfe.Result.demands`.  Next we want to think about\n",
    "how to map these into bundles of *nutrients*.  The information needed\n",
    "for the mapping comes from a &ldquo;Food Conversion Table&rdquo; (or database,\n",
    "such as the [USDA Nutrition DataBase](https://ndb.nal.usda.gov/ndb/doc/apilist/API-FOOD-REPORTV2.md)).   Here we&rsquo;ve adapted (with\n",
    "thanks to Alessandro Tarozzi of the Universitat Pompeu Fabra) a food\n",
    "conversion table developed by Gopalan et al (1980) to the foods\n",
    "reported in the Indian ICRISAT data:\n",
    "\n"
   ]
  },
  {
   "cell_type": "code",
   "execution_count": 8,
   "metadata": {},
   "outputs": [],
   "source": [
    "# Read in the data of nutritional value of each food item\n",
    "import pandas as pd\n",
    "fct = pd.read_csv('fct-full-fct-full.csv').dropna(how='all')\n",
    "\n",
    "\n",
    "# Change some labels so that the column names can be consistent.\n",
    "d={'Item name': 'Item',\n",
    "   'protein g':'Protein',\n",
    "   'energy kcal':'Calories',\n",
    "   'ca mg':'Calcium',\n",
    "   'mg mg': 'Magnesium',\n",
    "   'fe mg':'Iron',\n",
    "   'zn mg':'Zinc',\n",
    "   'vit a ug':'Vitamin A',\n",
    "   'vit d ug':'Vitamin D',\n",
    "   'vit e ug':'Vitamin E',\n",
    "   'vit c mg':'Vitamin C',\n",
    "   'vit b6 mg': 'Vitamin B6'}\n",
    "\n",
    "fct = fct.rename(columns=d)[list(d.values())]\n",
    "\n",
    "# Set the name of food item as index\n",
    "fct.set_index('Item', inplace= True)"
   ]
  },
  {
   "cell_type": "code",
   "execution_count": 9,
   "metadata": {},
   "outputs": [
    {
     "data": {
      "text/html": [
       "<div>\n",
       "<style scoped>\n",
       "    .dataframe tbody tr th:only-of-type {\n",
       "        vertical-align: middle;\n",
       "    }\n",
       "\n",
       "    .dataframe tbody tr th {\n",
       "        vertical-align: top;\n",
       "    }\n",
       "\n",
       "    .dataframe thead th {\n",
       "        text-align: right;\n",
       "    }\n",
       "</style>\n",
       "<table border=\"1\" class=\"dataframe\">\n",
       "  <thead>\n",
       "    <tr style=\"text-align: right;\">\n",
       "      <th></th>\n",
       "      <th>Protein</th>\n",
       "      <th>Calories</th>\n",
       "      <th>Calcium</th>\n",
       "      <th>Magnesium</th>\n",
       "      <th>Iron</th>\n",
       "      <th>Zinc</th>\n",
       "      <th>Vitamin A</th>\n",
       "      <th>Vitamin D</th>\n",
       "      <th>Vitamin E</th>\n",
       "      <th>Vitamin C</th>\n",
       "      <th>Vitamin B6</th>\n",
       "    </tr>\n",
       "    <tr>\n",
       "      <th>Item</th>\n",
       "      <th></th>\n",
       "      <th></th>\n",
       "      <th></th>\n",
       "      <th></th>\n",
       "      <th></th>\n",
       "      <th></th>\n",
       "      <th></th>\n",
       "      <th></th>\n",
       "      <th></th>\n",
       "      <th></th>\n",
       "      <th></th>\n",
       "    </tr>\n",
       "  </thead>\n",
       "  <tbody>\n",
       "    <tr>\n",
       "      <th>Rice (Paddy)</th>\n",
       "      <td>6.5</td>\n",
       "      <td>358.0</td>\n",
       "      <td>8.0</td>\n",
       "      <td>36.0</td>\n",
       "      <td>0.6</td>\n",
       "      <td>1.1</td>\n",
       "      <td>0.0</td>\n",
       "      <td>0.0</td>\n",
       "      <td>0.0</td>\n",
       "      <td>0.0</td>\n",
       "      <td>0.1</td>\n",
       "    </tr>\n",
       "    <tr>\n",
       "      <th>Rice (Husked)</th>\n",
       "      <td>6.5</td>\n",
       "      <td>358.0</td>\n",
       "      <td>8.0</td>\n",
       "      <td>36.0</td>\n",
       "      <td>0.6</td>\n",
       "      <td>1.1</td>\n",
       "      <td>0.0</td>\n",
       "      <td>0.0</td>\n",
       "      <td>0.0</td>\n",
       "      <td>0.0</td>\n",
       "      <td>0.1</td>\n",
       "    </tr>\n",
       "    <tr>\n",
       "      <th>Maize (Green, Cob, immature)</th>\n",
       "      <td>1.8</td>\n",
       "      <td>59.0</td>\n",
       "      <td>1.0</td>\n",
       "      <td>18.0</td>\n",
       "      <td>0.3</td>\n",
       "      <td>0.3</td>\n",
       "      <td>7.0</td>\n",
       "      <td>0.0</td>\n",
       "      <td>0.0</td>\n",
       "      <td>3.0</td>\n",
       "      <td>0.0</td>\n",
       "    </tr>\n",
       "    <tr>\n",
       "      <th>Maize (Grain, dry, raw)</th>\n",
       "      <td>8.1</td>\n",
       "      <td>362.0</td>\n",
       "      <td>6.0</td>\n",
       "      <td>127.0</td>\n",
       "      <td>3.5</td>\n",
       "      <td>1.8</td>\n",
       "      <td>0.0</td>\n",
       "      <td>0.0</td>\n",
       "      <td>1.0</td>\n",
       "      <td>0.0</td>\n",
       "      <td>0.3</td>\n",
       "    </tr>\n",
       "    <tr>\n",
       "      <th>Maize (Flour)</th>\n",
       "      <td>8.1</td>\n",
       "      <td>362.0</td>\n",
       "      <td>6.0</td>\n",
       "      <td>127.0</td>\n",
       "      <td>3.5</td>\n",
       "      <td>1.8</td>\n",
       "      <td>0.0</td>\n",
       "      <td>0.0</td>\n",
       "      <td>1.0</td>\n",
       "      <td>0.0</td>\n",
       "      <td>0.3</td>\n",
       "    </tr>\n",
       "  </tbody>\n",
       "</table>\n",
       "</div>"
      ],
      "text/plain": [
       "                              Protein  Calories  Calcium  Magnesium  Iron  \\\n",
       "Item                                                                        \n",
       "Rice (Paddy)                      6.5     358.0      8.0       36.0   0.6   \n",
       "Rice (Husked)                     6.5     358.0      8.0       36.0   0.6   \n",
       "Maize (Green, Cob, immature)      1.8      59.0      1.0       18.0   0.3   \n",
       "Maize (Grain, dry, raw)           8.1     362.0      6.0      127.0   3.5   \n",
       "Maize (Flour)                     8.1     362.0      6.0      127.0   3.5   \n",
       "\n",
       "                              Zinc  Vitamin A  Vitamin D  Vitamin E  \\\n",
       "Item                                                                  \n",
       "Rice (Paddy)                   1.1        0.0        0.0        0.0   \n",
       "Rice (Husked)                  1.1        0.0        0.0        0.0   \n",
       "Maize (Green, Cob, immature)   0.3        7.0        0.0        0.0   \n",
       "Maize (Grain, dry, raw)        1.8        0.0        0.0        1.0   \n",
       "Maize (Flour)                  1.8        0.0        0.0        1.0   \n",
       "\n",
       "                              Vitamin C  Vitamin B6  \n",
       "Item                                                 \n",
       "Rice (Paddy)                        0.0         0.1  \n",
       "Rice (Husked)                       0.0         0.1  \n",
       "Maize (Green, Cob, immature)        3.0         0.0  \n",
       "Maize (Grain, dry, raw)             0.0         0.3  \n",
       "Maize (Flour)                       0.0         0.3  "
      ]
     },
     "execution_count": 9,
     "metadata": {},
     "output_type": "execute_result"
    }
   ],
   "source": [
    "fct.head()"
   ]
  },
  {
   "cell_type": "markdown",
   "metadata": {},
   "source": [
    "We need the index of the Food Conversion Table (FCT) to match up with\n",
    "the index of the vector of quantities demanded.   To manage this we\n",
    "make use of the `align` method for `pd.DataFrames`:\n",
    "\n"
   ]
  },
  {
   "cell_type": "code",
   "execution_count": 10,
   "metadata": {},
   "outputs": [
    {
     "name": "stdout",
     "output_type": "stream",
     "text": [
      "Index(['Rice (Husked)', 'Maize (Flour)', 'Millet And Sorghum (Flour)', 'Bread',\n",
      "       'Buns, Cakes And Biscuits', 'Macaroni, Spaghetti', 'Cassava Fresh',\n",
      "       'Sweet Potatoes', 'Yams/Cocoyams', 'Irish Potatoes',\n",
      "       'Cooking Bananas, Plantains', 'Sugar', 'Sweets',\n",
      "       'Honey, Syrups, Jams, Marmalade, Jellies, Canned Fruits',\n",
      "       'Peas, Beans, Lentils And Other Pulses', 'Groundnuts In Shell/Shelled',\n",
      "       'Coconuts (Mature/Immature)',\n",
      "       'Onions, Tomatoes, Carrots And Green Pepper, Other Viungo',\n",
      "       'Spinach, Cabbage And Other Green Vegetables', 'Ripe Bananas',\n",
      "       'Citrus Fruits (Oranges, Lemon, Tangerines, Etc.)', 'Sugarcane',\n",
      "       'Goat Meat', 'Beef Including Minced Sausage',\n",
      "       'Chicken And Other Poultry', 'Eggs',\n",
      "       'Fresh Fish And Seafood (Including Dagaa)',\n",
      "       'Dried/Salted/Canned Fish And Seafood (Incl. Dagaa)', 'Fresh Milk',\n",
      "       'Milk Products (Like Cream, Cheese, Yoghurt Etc)', 'Cooking Oil',\n",
      "       'Salt', 'Other Spices', 'Tea Dry',\n",
      "       'Bottled/Canned Soft Drinks (Soda, Juice, Water)'],\n",
      "      dtype='object')\n"
     ]
    }
   ],
   "source": [
    "# Index of fct includes names of goods and also units.  Drop the latter:\n",
    "try:\n",
    "    fct.index = fct.index.droplevel('unit')\n",
    "except AttributeError: pass # not a multiindex?\n",
    "\n",
    "# Create a new FCT and vector of consumption that only share rows in common:\n",
    "fct0, c0= fct.align(c,axis = 0, join='inner')\n",
    "print(fct0.index)"
   ]
  },
  {
   "cell_type": "markdown",
   "metadata": {},
   "source": [
    "Now, since rows of `fct0` and `c0` match, we can obtain nutritional\n",
    "outcomes from the inner (or dot, or matrix) product of the transposed\n",
    "`fct0` and `c0`:\n",
    "\n"
   ]
  },
  {
   "cell_type": "code",
   "execution_count": 12,
   "metadata": {},
   "outputs": [
    {
     "data": {
      "text/plain": [
       "Protein        316.168509\n",
       "Calories      9903.175587\n",
       "Calcium       3458.940863\n",
       "Magnesium     1651.377972\n",
       "Iron            73.430869\n",
       "Zinc            42.990242\n",
       "Vitamin A     7416.951508\n",
       "Vitamin D       10.164771\n",
       "Vitamin E       68.424854\n",
       "Vitamin C      612.007186\n",
       "Vitamin B6      12.657562\n",
       "dtype: float64"
      ]
     },
     "execution_count": 12,
     "metadata": {},
     "output_type": "execute_result"
    }
   ],
   "source": [
    "# The @ operator means matrix multiply,\n",
    "# Replace all values of NaN in the fct0 dataset with 0 so that no \"Not a Number\" values show up when we run \"N\"\n",
    "fct0= fct0.replace(np.nan,0)\n",
    "N = fct0.T@c0\n",
    "N"
   ]
  },
  {
   "cell_type": "markdown",
   "metadata": {},
   "source": [
    "Of course, since we can compute the nutritional content of a vector of\n",
    "consumption goods `c0`, we can also use our demand functions to\n",
    "compute nutrition as a *function* of prices and budget.\n",
    "\n"
   ]
  },
  {
   "cell_type": "code",
   "execution_count": 14,
   "metadata": {},
   "outputs": [],
   "source": [
    "# Like above, we load prices into the demand system\n",
    "# Then set fct0,c0 equal to a function that aligns fct and c on their inner axes \n",
    "def nutrient_demand(x,p):\n",
    "    c = r.demands(x,p)\n",
    "    fct0,c0 = fct.align(c,axis=0,join='inner')\n",
    "    fct0= fct0.replace(np.nan,0)\n",
    "    N = fct0.T@c0\n",
    "\n",
    "    return N"
   ]
  },
  {
   "cell_type": "markdown",
   "metadata": {},
   "source": [
    "With this `nutrient_demand` function in hand, we can see how nutrient\n",
    "outcomes vary with budget, given prices:\n",
    "\n"
   ]
  },
  {
   "cell_type": "code",
   "execution_count": 17,
   "metadata": {},
   "outputs": [
    {
     "data": {
      "text/plain": [
       "Text(0, 0.5, 'log nutrient')"
      ]
     },
     "execution_count": 17,
     "metadata": {},
     "output_type": "execute_result"
    },
    {
     "data": {
      "image/png": "[encoded data removed]",
      "text/plain": [
       "<Figure size 432x288 with 1 Axes>"
      ]
     },
     "metadata": {
      "needs_background": "light"
     },
     "output_type": "display_data"
    }
   ],
   "source": [
    "import numpy as np\n",
    "import matplotlib.pyplot as plt\n",
    "\n",
    "X = np.linspace(1,200,50) # Returns num = 50 evenly spaced samples calculated over the interval [1,200]\n",
    "\n",
    "UseNutrients = ['Protein','Calories','Iron','Calcium'] \n",
    "\n",
    "plt.title(\"Nutrient Outcomes Vary with Budget\")\n",
    "plt.plot(X,pd.concat({x:np.log(nutrient_demand(x,p))[UseNutrients] for x in X},axis=1).T) \n",
    "# Takes X and Y arguments where X is the np.linespace line above and Y is the stuff to the right of the comma\n",
    "# Y takes the log of what is returned from nutrient_demand(x,p) for each of the nutrients in UseNutrients over all the values in X\n",
    "plt.legend(UseNutrients)\n",
    "plt.xlabel('log budget')\n",
    "plt.ylabel('log nutrient')"
   ]
  },
  {
   "cell_type": "markdown",
   "metadata": {},
   "source": [
    "Now how does nutrition vary with prices?\n",
    "\n"
   ]
  },
  {
   "cell_type": "code",
   "execution_count": 18,
   "metadata": {},
   "outputs": [
    {
     "data": {
      "text/plain": [
       "Text(0, 0.5, 'log nutrient')"
      ]
     },
     "execution_count": 18,
     "metadata": {},
     "output_type": "execute_result"
    },
    {
     "data": {
      "image/png": "[encoded data removed]",
      "text/plain": [
       "<Figure size 432x288 with 1 Axes>"
      ]
     },
     "metadata": {
      "needs_background": "light"
     },
     "output_type": "display_data"
    }
   ],
   "source": [
    "P = np.linspace(1,200,50) \n",
    "\n",
    "x = 6300 # Budget\n",
    "\n",
    "plt.title(\"Nutrition Varies with Prices\")\n",
    "plt.plot(P,pd.concat({p0:np.log(nutrient_demand(x,my_prices(p0,i='Goat Meat')))[UseNutrients] for p0 in P},axis=1).T)\n",
    "# Takes X and Y values\n",
    "# In this case, P is the x-value and the stuff to the right of the comma is the Y value\n",
    "# Y takes the log of what is returned from nutrient_demand(x,p) for each of the nutrients in UseNutrients over all the values in P\n",
    "# In this case, we change the prices to reflect the prices of the item \"Goat Meat\"\n",
    "plt.legend(UseNutrients)\n",
    "plt.xlabel('log price')\n",
    "plt.ylabel('log nutrient')"
   ]
  },
  {
   "cell_type": "markdown",
   "metadata": {},
   "source": [
    "## Nutritional requirements\n",
    "\n"
   ]
  },
  {
   "cell_type": "markdown",
   "metadata": {},
   "source": [
    "Individuals have nutritional requirements established by nutrition\n",
    "scientists.  Here are some standards established by the Indian\n",
    "National Institute of Nutrition:\n",
    "\n"
   ]
  },
  {
   "cell_type": "markdown",
   "metadata": {},
   "source": [
    "### Nutritional needs of individuals\n",
    "\n"
   ]
  },
  {
   "cell_type": "markdown",
   "metadata": {},
   "source": [
    "| Sex-Age|Calories|Protein|Fat|Calcium|Iron|Betacarotene|Thiamine|Riboflavin|Niacin|Ascorbic Acid|\n",
    "|---|---|---|---|---|---|---|---|---|---|---|\n",
    "| C 0-0.5||||500|||.2|.3||25|\n",
    "| C 0.5-1|||19|500|5|2800|.3|.4||25|\n",
    "| C 1-3|1060|16.7|27|600|9|3200|.5|.6|8|40|\n",
    "| C 4-6|1350|20.1|25|600|13|3200|.7|.8|11|40|\n",
    "| C 7-9|1690|29.5|30|600|16|4800|.8|1.|13|40|\n",
    "| B 10-12|2190|39.9|35|800|21|4800|1.1|1.3|15|40|\n",
    "| G 10-12|2010|40.4|35|800|27|4800|1.|1.2|13|40|\n",
    "| B 13-15|2750|54.3|45|800|32|4800|1.4|1.6|16|40|\n",
    "| G 13-15|2330|51.9|40|800|27|4800|1.2|1.4|14|40|\n",
    "| B 16-17|3020|61.5|50|800|28|4800|1.5|1.8|17|40|\n",
    "| G 16-17|2440|55.5|35|800|26|4800|1.|1.2|14|40|\n",
    "| M|2730|60|30|600|17|4800|1.4|1.4|18|40|\n",
    "| W|2230|55|25|1200|21|4800|1.1|1.3|14|40|\n",
    "\n"
   ]
  },
  {
   "cell_type": "code",
   "execution_count": 24,
   "metadata": {},
   "outputs": [
    {
     "ename": "KeyError",
     "evalue": "\"['Calories'] not in index\"",
     "output_type": "error",
     "traceback": [
      "\u001b[0;31m---------------------------------------------------------------------------\u001b[0m",
      "\u001b[0;31mKeyError\u001b[0m                                  Traceback (most recent call last)",
      "\u001b[0;32m<ipython-input-24-e06efaea16b3>\u001b[0m in \u001b[0;36m<module>\u001b[0;34m\u001b[0m\n\u001b[1;32m     23\u001b[0m   }\n\u001b[1;32m     24\u001b[0m \u001b[0;34m\u001b[0m\u001b[0m\n\u001b[0;32m---> 25\u001b[0;31m \u001b[0mrda\u001b[0m \u001b[0;34m=\u001b[0m \u001b[0mrda\u001b[0m\u001b[0;34m.\u001b[0m\u001b[0mrename\u001b[0m\u001b[0;34m(\u001b[0m\u001b[0mindex\u001b[0m\u001b[0;34m=\u001b[0m\u001b[0md\u001b[0m\u001b[0;34m)\u001b[0m\u001b[0;34m.\u001b[0m\u001b[0mrename\u001b[0m\u001b[0;34m(\u001b[0m\u001b[0mcolumns\u001b[0m\u001b[0;34m=\u001b[0m\u001b[0me\u001b[0m\u001b[0;34m)\u001b[0m\u001b[0;34m[\u001b[0m\u001b[0mlist\u001b[0m\u001b[0;34m(\u001b[0m\u001b[0me\u001b[0m\u001b[0;34m.\u001b[0m\u001b[0mvalues\u001b[0m\u001b[0;34m(\u001b[0m\u001b[0;34m)\u001b[0m\u001b[0;34m)\u001b[0m\u001b[0;34m]\u001b[0m\u001b[0;34m\u001b[0m\u001b[0;34m\u001b[0m\u001b[0m\n\u001b[0m\u001b[1;32m     26\u001b[0m \u001b[0;34m\u001b[0m\u001b[0m\n\u001b[1;32m     27\u001b[0m \u001b[0mrda\u001b[0m\u001b[0;34m\u001b[0m\u001b[0;34m\u001b[0m\u001b[0m\n",
      "\u001b[0;32m/srv/app/venv/lib/python3.6/site-packages/pandas/core/frame.py\u001b[0m in \u001b[0;36m__getitem__\u001b[0;34m(self, key)\u001b[0m\n\u001b[1;32m   2680\u001b[0m         \u001b[0;32mif\u001b[0m \u001b[0misinstance\u001b[0m\u001b[0;34m(\u001b[0m\u001b[0mkey\u001b[0m\u001b[0;34m,\u001b[0m \u001b[0;34m(\u001b[0m\u001b[0mSeries\u001b[0m\u001b[0;34m,\u001b[0m \u001b[0mnp\u001b[0m\u001b[0;34m.\u001b[0m\u001b[0mndarray\u001b[0m\u001b[0;34m,\u001b[0m \u001b[0mIndex\u001b[0m\u001b[0;34m,\u001b[0m \u001b[0mlist\u001b[0m\u001b[0;34m)\u001b[0m\u001b[0;34m)\u001b[0m\u001b[0;34m:\u001b[0m\u001b[0;34m\u001b[0m\u001b[0;34m\u001b[0m\u001b[0m\n\u001b[1;32m   2681\u001b[0m             \u001b[0;31m# either boolean or fancy integer index\u001b[0m\u001b[0;34m\u001b[0m\u001b[0;34m\u001b[0m\u001b[0;34m\u001b[0m\u001b[0m\n\u001b[0;32m-> 2682\u001b[0;31m             \u001b[0;32mreturn\u001b[0m \u001b[0mself\u001b[0m\u001b[0;34m.\u001b[0m\u001b[0m_getitem_array\u001b[0m\u001b[0;34m(\u001b[0m\u001b[0mkey\u001b[0m\u001b[0;34m)\u001b[0m\u001b[0;34m\u001b[0m\u001b[0;34m\u001b[0m\u001b[0m\n\u001b[0m\u001b[1;32m   2683\u001b[0m         \u001b[0;32melif\u001b[0m \u001b[0misinstance\u001b[0m\u001b[0;34m(\u001b[0m\u001b[0mkey\u001b[0m\u001b[0;34m,\u001b[0m \u001b[0mDataFrame\u001b[0m\u001b[0;34m)\u001b[0m\u001b[0;34m:\u001b[0m\u001b[0;34m\u001b[0m\u001b[0;34m\u001b[0m\u001b[0m\n\u001b[1;32m   2684\u001b[0m             \u001b[0;32mreturn\u001b[0m \u001b[0mself\u001b[0m\u001b[0;34m.\u001b[0m\u001b[0m_getitem_frame\u001b[0m\u001b[0;34m(\u001b[0m\u001b[0mkey\u001b[0m\u001b[0;34m)\u001b[0m\u001b[0;34m\u001b[0m\u001b[0;34m\u001b[0m\u001b[0m\n",
      "\u001b[0;32m/srv/app/venv/lib/python3.6/site-packages/pandas/core/frame.py\u001b[0m in \u001b[0;36m_getitem_array\u001b[0;34m(self, key)\u001b[0m\n\u001b[1;32m   2724\u001b[0m             \u001b[0;32mreturn\u001b[0m \u001b[0mself\u001b[0m\u001b[0;34m.\u001b[0m\u001b[0m_take\u001b[0m\u001b[0;34m(\u001b[0m\u001b[0mindexer\u001b[0m\u001b[0;34m,\u001b[0m \u001b[0maxis\u001b[0m\u001b[0;34m=\u001b[0m\u001b[0;36m0\u001b[0m\u001b[0;34m)\u001b[0m\u001b[0;34m\u001b[0m\u001b[0;34m\u001b[0m\u001b[0m\n\u001b[1;32m   2725\u001b[0m         \u001b[0;32melse\u001b[0m\u001b[0;34m:\u001b[0m\u001b[0;34m\u001b[0m\u001b[0;34m\u001b[0m\u001b[0m\n\u001b[0;32m-> 2726\u001b[0;31m             \u001b[0mindexer\u001b[0m \u001b[0;34m=\u001b[0m \u001b[0mself\u001b[0m\u001b[0;34m.\u001b[0m\u001b[0mloc\u001b[0m\u001b[0;34m.\u001b[0m\u001b[0m_convert_to_indexer\u001b[0m\u001b[0;34m(\u001b[0m\u001b[0mkey\u001b[0m\u001b[0;34m,\u001b[0m \u001b[0maxis\u001b[0m\u001b[0;34m=\u001b[0m\u001b[0;36m1\u001b[0m\u001b[0;34m)\u001b[0m\u001b[0;34m\u001b[0m\u001b[0;34m\u001b[0m\u001b[0m\n\u001b[0m\u001b[1;32m   2727\u001b[0m             \u001b[0;32mreturn\u001b[0m \u001b[0mself\u001b[0m\u001b[0;34m.\u001b[0m\u001b[0m_take\u001b[0m\u001b[0;34m(\u001b[0m\u001b[0mindexer\u001b[0m\u001b[0;34m,\u001b[0m \u001b[0maxis\u001b[0m\u001b[0;34m=\u001b[0m\u001b[0;36m1\u001b[0m\u001b[0;34m)\u001b[0m\u001b[0;34m\u001b[0m\u001b[0;34m\u001b[0m\u001b[0m\n\u001b[1;32m   2728\u001b[0m \u001b[0;34m\u001b[0m\u001b[0m\n",
      "\u001b[0;32m/srv/app/venv/lib/python3.6/site-packages/pandas/core/indexing.py\u001b[0m in \u001b[0;36m_convert_to_indexer\u001b[0;34m(self, obj, axis, is_setter)\u001b[0m\n\u001b[1;32m   1325\u001b[0m                 \u001b[0;32mif\u001b[0m \u001b[0mmask\u001b[0m\u001b[0;34m.\u001b[0m\u001b[0many\u001b[0m\u001b[0;34m(\u001b[0m\u001b[0;34m)\u001b[0m\u001b[0;34m:\u001b[0m\u001b[0;34m\u001b[0m\u001b[0;34m\u001b[0m\u001b[0m\n\u001b[1;32m   1326\u001b[0m                     raise KeyError('{mask} not in index'\n\u001b[0;32m-> 1327\u001b[0;31m                                    .format(mask=objarr[mask]))\n\u001b[0m\u001b[1;32m   1328\u001b[0m \u001b[0;34m\u001b[0m\u001b[0m\n\u001b[1;32m   1329\u001b[0m                 \u001b[0;32mreturn\u001b[0m \u001b[0mcom\u001b[0m\u001b[0;34m.\u001b[0m\u001b[0m_values_from_object\u001b[0m\u001b[0;34m(\u001b[0m\u001b[0mindexer\u001b[0m\u001b[0;34m)\u001b[0m\u001b[0;34m\u001b[0m\u001b[0;34m\u001b[0m\u001b[0m\n",
      "\u001b[0;31mKeyError\u001b[0m: \"['Calories'] not in index\""
     ]
    }
   ],
   "source": [
    "rda = pd.read_csv('Tanzania Daily Nutrition Minimum Requirement - nutrition-final.csv').set_index(['age'])\n",
    "\n",
    "# Changing some labels to match the table labels\n",
    "d={'child02': 'C 0-2',\n",
    "   'child25': 'C 2-5',\n",
    "   'child69': 'C 6-9',\n",
    "   'child1014':'C 10-14',\n",
    "   'child1517':'C 15-17',\n",
    "   'men': 'Men',\n",
    "   'women': 'Women'}\n",
    "\n",
    "e={'protein (g)':'Protein',\n",
    "   'energy (kcal)':'Calories',\n",
    "   'calcium (mg)':'Calcium',\n",
    "   'magnesium (mg)': 'Magnesium',\n",
    "   'iron (mg)':'Iron',\n",
    "   'zinc (mg)':'Zinc',\n",
    "   'vitamin a (ug)':'Vitamin A',\n",
    "   'vitamin d (ug)':'Vitamin D',\n",
    "   'vitamin e (ug)':'Vitamin E',\n",
    "   'vitamin c (mg)':'Vitamin C'\n",
    "  # 'vit b6 mg': 'Vitamin B6'}\n",
    "  }\n",
    "   \n",
    "rda = rda.rename(index=d).rename(columns=e)[list(e.values())] \n",
    "\n",
    "rda"
   ]
  },
  {
   "cell_type": "markdown",
   "metadata": {},
   "source": [
    "### Nutritional Needs of Households\n",
    "\n"
   ]
  },
  {
   "cell_type": "markdown",
   "metadata": {},
   "source": [
    "Our data on demand and nutrients is at the *household* level; we\n",
    "   can&rsquo;t directly compare household level nutrition with individual\n",
    "   level requirements.  What we **can** do is add up minimum individual\n",
    "   requirements, and see whether household total exceed these.  This\n",
    "   isn&rsquo;t a guarantee that all individuals have adequate nutrition\n",
    "   (since the way food is allocated in the household might be quite\n",
    "   unequal, or unrelated to individual requirements), but it is\n",
    "   *necessary* if all individuals are to have adequate nutrition.\n",
    "\n",
    "For the average household in the ICRISAT villages, the number of\n",
    "different kinds of people can be computed by averaging over households:\n",
    "\n"
   ]
  },
  {
   "cell_type": "code",
   "execution_count": 37,
   "metadata": {},
   "outputs": [
    {
     "data": {
      "text/html": [
       "<div>\n",
       "<style scoped>\n",
       "    .dataframe tbody tr th:only-of-type {\n",
       "        vertical-align: middle;\n",
       "    }\n",
       "\n",
       "    .dataframe tbody tr th {\n",
       "        vertical-align: top;\n",
       "    }\n",
       "\n",
       "    .dataframe thead th {\n",
       "        text-align: right;\n",
       "    }\n",
       "</style>\n",
       "<table border=\"1\" class=\"dataframe\">\n",
       "  <thead>\n",
       "    <tr style=\"text-align: right;\">\n",
       "      <th></th>\n",
       "      <th>t</th>\n",
       "      <th>z</th>\n",
       "    </tr>\n",
       "    <tr>\n",
       "      <th>k</th>\n",
       "      <th></th>\n",
       "      <th></th>\n",
       "    </tr>\n",
       "  </thead>\n",
       "  <tbody>\n",
       "    <tr>\n",
       "      <th>C 0-2</th>\n",
       "      <td>2014</td>\n",
       "      <td>0.351432</td>\n",
       "    </tr>\n",
       "    <tr>\n",
       "      <th>C 2-5</th>\n",
       "      <td>2014</td>\n",
       "      <td>0.476730</td>\n",
       "    </tr>\n",
       "    <tr>\n",
       "      <th>C 6-9</th>\n",
       "      <td>2014</td>\n",
       "      <td>0.712709</td>\n",
       "    </tr>\n",
       "    <tr>\n",
       "      <th>C 10-14</th>\n",
       "      <td>2014</td>\n",
       "      <td>0.635740</td>\n",
       "    </tr>\n",
       "    <tr>\n",
       "      <th>C 15-17</th>\n",
       "      <td>2014</td>\n",
       "      <td>0.214200</td>\n",
       "    </tr>\n",
       "    <tr>\n",
       "      <th>Men</th>\n",
       "      <td>2014</td>\n",
       "      <td>1.147375</td>\n",
       "    </tr>\n",
       "    <tr>\n",
       "      <th>Women</th>\n",
       "      <td>2014</td>\n",
       "      <td>1.319511</td>\n",
       "    </tr>\n",
       "  </tbody>\n",
       "</table>\n",
       "</div>"
      ],
      "text/plain": [
       "            t         z\n",
       "k                      \n",
       "C 0-2    2014  0.351432\n",
       "C 2-5    2014  0.476730\n",
       "C 6-9    2014  0.712709\n",
       "C 10-14  2014  0.635740\n",
       "C 15-17  2014  0.214200\n",
       "Men      2014  1.147375\n",
       "Women    2014  1.319511"
      ]
     },
     "execution_count": 37,
     "metadata": {},
     "output_type": "execute_result"
    }
   ],
   "source": [
    "# In 1975, averaged over households and villages\n",
    "# This selects the column t where t = 2014. It takes the mean of columns j and m to produce the average men and women in a household\n",
    "\n",
    "zbar = r.z.sel(t=2014).mean(['j','m'])[:-1] # Leave out log HSize\n",
    "zbar.to_dataframe() # Turns zbar into a dataframe"
   ]
  },
  {
   "cell_type": "markdown",
   "metadata": {},
   "source": [
    "There are 1.6 men on average in a household, 1.5 women."
   ]
  },
  {
   "cell_type": "markdown",
   "metadata": {},
   "source": [
    "Now, the inner/dot/matrix product between `zbar` and the `rda`\n",
    "DataFrame of requirements will give us minimum requirements for the\n",
    "average household:\n"
   ]
  },
  {
   "cell_type": "code",
   "execution_count": 38,
   "metadata": {},
   "outputs": [
    {
     "data": {
      "text/plain": [
       "Protein      1.672204e+02\n",
       "Calories     9.282029e+03\n",
       "Calcium      4.475033e+03\n",
       "Magnesium    8.202510e+02\n",
       "Iron         5.373313e+01\n",
       "Zinc         2.764955e+01\n",
       "Vitamin A    2.303040e+06\n",
       "Vitamin D    2.428848e+01\n",
       "Vitamin E    3.385211e+04\n",
       "Vitamin C    1.928711e+02\n",
       "dtype: float64"
      ]
     },
     "execution_count": 38,
     "metadata": {},
     "output_type": "execute_result"
    }
   ],
   "source": [
    "# This matrix product gives minimum nutrient requirements for average\n",
    "# household (zbar) in 1975\n",
    "# add up all the nutrients (rda) needed for a household, such as 1.5 men multiplied by how many nutrients men need\n",
    "hh_rda = rda.replace('',0).T@zbar\n",
    "hh_rda"
   ]
  },
  {
   "cell_type": "markdown",
   "metadata": {},
   "source": [
    "## Nutritional Adequacy of Food Demands\n",
    "\n"
   ]
  },
  {
   "cell_type": "markdown",
   "metadata": {},
   "source": [
    "Since we can trace out demands for nutrients as a function of $(x,p)$,\n",
    "and we&rsquo;ve computed minimum nutritional requirements for the average\n",
    "household, we can *normalize* nutritional intake to check the adequacy\n",
    "of diet.\n",
    "\n"
   ]
  },
  {
   "cell_type": "code",
   "execution_count": 40,
   "metadata": {},
   "outputs": [],
   "source": [
    "# Takes the nutrition the household is getting (function of budget and prices) \n",
    "# and divides it by the the nutrients needded by that household\n",
    "# to measure if households are meeting the nutritional requirements for the average household\n",
    "\n",
    "def nutrient_adequacy_ratio(x,p):   \n",
    "    \n",
    "    return nutrient_demand(x,p)/hh_rda"
   ]
  },
  {
   "cell_type": "markdown",
   "metadata": {},
   "source": [
    "In terms of normalized nutrients, any household with more than one\n",
    "unit of any given nutrient (or zero in logs) will be consuming a\n",
    "minimally adequate level of the nutrient; below this level there&rsquo;s\n",
    "clearly nutritional inadequacy.  For this reason the ratio of\n",
    "actual nutrients to required nutrients is termed the &ldquo;nutrient\n",
    "adequacy ratio,&rdquo; or NAR.\n",
    "\n"
   ]
  },
  {
   "cell_type": "code",
   "execution_count": 25,
   "metadata": {},
   "outputs": [
    {
     "ename": "NameError",
     "evalue": "name 'nutrient_adequacy_ratio' is not defined",
     "output_type": "error",
     "traceback": [
      "\u001b[0;31m---------------------------------------------------------------------------\u001b[0m",
      "\u001b[0;31mNameError\u001b[0m                                 Traceback (most recent call last)",
      "\u001b[0;32m<ipython-input-25-70591f1a4d2e>\u001b[0m in \u001b[0;36m<module>\u001b[0;34m\u001b[0m\n\u001b[1;32m      4\u001b[0m \u001b[0;34m\u001b[0m\u001b[0m\n\u001b[1;32m      5\u001b[0m \u001b[0mplt\u001b[0m\u001b[0;34m.\u001b[0m\u001b[0mtitle\u001b[0m\u001b[0;34m(\u001b[0m\u001b[0;34m\"Nutritional Adequacy of Food Demands\"\u001b[0m\u001b[0;34m)\u001b[0m\u001b[0;34m\u001b[0m\u001b[0;34m\u001b[0m\u001b[0m\n\u001b[0;32m----> 6\u001b[0;31m \u001b[0mplt\u001b[0m\u001b[0;34m.\u001b[0m\u001b[0mplot\u001b[0m\u001b[0;34m(\u001b[0m\u001b[0mX\u001b[0m\u001b[0;34m,\u001b[0m\u001b[0mpd\u001b[0m\u001b[0;34m.\u001b[0m\u001b[0mconcat\u001b[0m\u001b[0;34m(\u001b[0m\u001b[0;34m{\u001b[0m\u001b[0mx\u001b[0m\u001b[0;34m:\u001b[0m\u001b[0mnp\u001b[0m\u001b[0;34m.\u001b[0m\u001b[0mlog\u001b[0m\u001b[0;34m(\u001b[0m\u001b[0mnutrient_adequacy_ratio\u001b[0m\u001b[0;34m(\u001b[0m\u001b[0mx\u001b[0m\u001b[0;34m,\u001b[0m\u001b[0mp\u001b[0m\u001b[0;34m)\u001b[0m\u001b[0;34m)\u001b[0m\u001b[0;34m[\u001b[0m\u001b[0mUseNutrients\u001b[0m\u001b[0;34m]\u001b[0m \u001b[0;32mfor\u001b[0m \u001b[0mx\u001b[0m \u001b[0;32min\u001b[0m \u001b[0mX\u001b[0m\u001b[0;34m}\u001b[0m\u001b[0;34m,\u001b[0m\u001b[0maxis\u001b[0m\u001b[0;34m=\u001b[0m\u001b[0;36m1\u001b[0m\u001b[0;34m)\u001b[0m\u001b[0;34m.\u001b[0m\u001b[0mT\u001b[0m\u001b[0;34m)\u001b[0m\u001b[0;34m\u001b[0m\u001b[0;34m\u001b[0m\u001b[0m\n\u001b[0m\u001b[1;32m      7\u001b[0m \u001b[0mplt\u001b[0m\u001b[0;34m.\u001b[0m\u001b[0mlegend\u001b[0m\u001b[0;34m(\u001b[0m\u001b[0mUseNutrients\u001b[0m\u001b[0;34m)\u001b[0m\u001b[0;34m\u001b[0m\u001b[0;34m\u001b[0m\u001b[0m\n\u001b[1;32m      8\u001b[0m \u001b[0mplt\u001b[0m\u001b[0;34m.\u001b[0m\u001b[0mxlabel\u001b[0m\u001b[0;34m(\u001b[0m\u001b[0;34m'log budget'\u001b[0m\u001b[0;34m)\u001b[0m\u001b[0;34m\u001b[0m\u001b[0;34m\u001b[0m\u001b[0m\n",
      "\u001b[0;32m<ipython-input-25-70591f1a4d2e>\u001b[0m in \u001b[0;36m<dictcomp>\u001b[0;34m(.0)\u001b[0m\n\u001b[1;32m      4\u001b[0m \u001b[0;34m\u001b[0m\u001b[0m\n\u001b[1;32m      5\u001b[0m \u001b[0mplt\u001b[0m\u001b[0;34m.\u001b[0m\u001b[0mtitle\u001b[0m\u001b[0;34m(\u001b[0m\u001b[0;34m\"Nutritional Adequacy of Food Demands\"\u001b[0m\u001b[0;34m)\u001b[0m\u001b[0;34m\u001b[0m\u001b[0;34m\u001b[0m\u001b[0m\n\u001b[0;32m----> 6\u001b[0;31m \u001b[0mplt\u001b[0m\u001b[0;34m.\u001b[0m\u001b[0mplot\u001b[0m\u001b[0;34m(\u001b[0m\u001b[0mX\u001b[0m\u001b[0;34m,\u001b[0m\u001b[0mpd\u001b[0m\u001b[0;34m.\u001b[0m\u001b[0mconcat\u001b[0m\u001b[0;34m(\u001b[0m\u001b[0;34m{\u001b[0m\u001b[0mx\u001b[0m\u001b[0;34m:\u001b[0m\u001b[0mnp\u001b[0m\u001b[0;34m.\u001b[0m\u001b[0mlog\u001b[0m\u001b[0;34m(\u001b[0m\u001b[0mnutrient_adequacy_ratio\u001b[0m\u001b[0;34m(\u001b[0m\u001b[0mx\u001b[0m\u001b[0;34m,\u001b[0m\u001b[0mp\u001b[0m\u001b[0;34m)\u001b[0m\u001b[0;34m)\u001b[0m\u001b[0;34m[\u001b[0m\u001b[0mUseNutrients\u001b[0m\u001b[0;34m]\u001b[0m \u001b[0;32mfor\u001b[0m \u001b[0mx\u001b[0m \u001b[0;32min\u001b[0m \u001b[0mX\u001b[0m\u001b[0;34m}\u001b[0m\u001b[0;34m,\u001b[0m\u001b[0maxis\u001b[0m\u001b[0;34m=\u001b[0m\u001b[0;36m1\u001b[0m\u001b[0;34m)\u001b[0m\u001b[0;34m.\u001b[0m\u001b[0mT\u001b[0m\u001b[0;34m)\u001b[0m\u001b[0;34m\u001b[0m\u001b[0;34m\u001b[0m\u001b[0m\n\u001b[0m\u001b[1;32m      7\u001b[0m \u001b[0mplt\u001b[0m\u001b[0;34m.\u001b[0m\u001b[0mlegend\u001b[0m\u001b[0;34m(\u001b[0m\u001b[0mUseNutrients\u001b[0m\u001b[0;34m)\u001b[0m\u001b[0;34m\u001b[0m\u001b[0;34m\u001b[0m\u001b[0m\n\u001b[1;32m      8\u001b[0m \u001b[0mplt\u001b[0m\u001b[0;34m.\u001b[0m\u001b[0mxlabel\u001b[0m\u001b[0;34m(\u001b[0m\u001b[0;34m'log budget'\u001b[0m\u001b[0;34m)\u001b[0m\u001b[0;34m\u001b[0m\u001b[0;34m\u001b[0m\u001b[0m\n",
      "\u001b[0;31mNameError\u001b[0m: name 'nutrient_adequacy_ratio' is not defined"
     ]
    },
    {
     "data": {
      "image/png": "[encoded data removed]",
      "text/plain": [
       "<Figure size 432x288 with 1 Axes>"
      ]
     },
     "metadata": {
      "needs_background": "light"
     },
     "output_type": "display_data"
    }
   ],
   "source": [
    "# plt.plot takes X and Y values\n",
    "# Y takes the log of what is returned from nutrient_adequacy_ratio(x,p) for each of the nutrients \n",
    "# in UseNutrients over all the values in X\n",
    "\n",
    "plt.title(\"Nutritional Adequacy of Food Demands\")\n",
    "plt.plot(X,pd.concat({x:np.log(nutrient_adequacy_ratio(x,p))[UseNutrients] for x in X},axis=1).T)\n",
    "plt.legend(UseNutrients)\n",
    "plt.xlabel('log budget')\n",
    "plt.ylabel('log nutrient adequacy ratio')\n",
    "plt.axhline(0)"
   ]
  },
  {
   "cell_type": "markdown",
   "metadata": {},
   "source": [
    "As before, we can also vary relative prices.  Here we trace out\n",
    "nutritional adequacy varying the price of Bengalgram dahl:\n",
    "\n"
   ]
  },
  {
   "cell_type": "code",
   "execution_count": 26,
   "metadata": {},
   "outputs": [
    {
     "ename": "NameError",
     "evalue": "name 'nutrient_adequacy_ratio' is not defined",
     "output_type": "error",
     "traceback": [
      "\u001b[0;31m---------------------------------------------------------------------------\u001b[0m",
      "\u001b[0;31mNameError\u001b[0m                                 Traceback (most recent call last)",
      "\u001b[0;32m<ipython-input-26-0bf221e19def>\u001b[0m in \u001b[0;36m<module>\u001b[0;34m\u001b[0m\n\u001b[1;32m      4\u001b[0m \u001b[0;34m\u001b[0m\u001b[0m\n\u001b[1;32m      5\u001b[0m \u001b[0mplt\u001b[0m\u001b[0;34m.\u001b[0m\u001b[0mtitle\u001b[0m\u001b[0;34m(\u001b[0m\u001b[0;34m\"Nutritional Adequacy Varies price of Goat Meat\"\u001b[0m\u001b[0;34m)\u001b[0m\u001b[0;34m\u001b[0m\u001b[0;34m\u001b[0m\u001b[0m\n\u001b[0;32m----> 6\u001b[0;31m \u001b[0mplt\u001b[0m\u001b[0;34m.\u001b[0m\u001b[0mplot\u001b[0m\u001b[0;34m(\u001b[0m\u001b[0mpd\u001b[0m\u001b[0;34m.\u001b[0m\u001b[0mconcat\u001b[0m\u001b[0;34m(\u001b[0m\u001b[0;34m{\u001b[0m\u001b[0mp0\u001b[0m\u001b[0;34m:\u001b[0m\u001b[0mnp\u001b[0m\u001b[0;34m.\u001b[0m\u001b[0mlog\u001b[0m\u001b[0;34m(\u001b[0m\u001b[0mnutrient_adequacy_ratio\u001b[0m\u001b[0;34m(\u001b[0m\u001b[0mx\u001b[0m\u001b[0;34m,\u001b[0m\u001b[0mmy_prices\u001b[0m\u001b[0;34m(\u001b[0m\u001b[0mp0\u001b[0m\u001b[0;34m,\u001b[0m\u001b[0mi\u001b[0m\u001b[0;34m=\u001b[0m\u001b[0;34m'Goat Meat'\u001b[0m\u001b[0;34m)\u001b[0m\u001b[0;34m)\u001b[0m\u001b[0;34m)\u001b[0m\u001b[0;34m[\u001b[0m\u001b[0mUseNutrients\u001b[0m\u001b[0;34m]\u001b[0m \u001b[0;32mfor\u001b[0m \u001b[0mp0\u001b[0m \u001b[0;32min\u001b[0m \u001b[0mP\u001b[0m\u001b[0;34m}\u001b[0m\u001b[0;34m,\u001b[0m\u001b[0maxis\u001b[0m\u001b[0;34m=\u001b[0m\u001b[0;36m1\u001b[0m\u001b[0;34m)\u001b[0m\u001b[0;34m.\u001b[0m\u001b[0mT\u001b[0m\u001b[0;34m,\u001b[0m\u001b[0mP\u001b[0m\u001b[0;34m)\u001b[0m\u001b[0;34m\u001b[0m\u001b[0;34m\u001b[0m\u001b[0m\n\u001b[0m\u001b[1;32m      7\u001b[0m \u001b[0mplt\u001b[0m\u001b[0;34m.\u001b[0m\u001b[0mlegend\u001b[0m\u001b[0;34m(\u001b[0m\u001b[0mUseNutrients\u001b[0m\u001b[0;34m)\u001b[0m\u001b[0;34m\u001b[0m\u001b[0;34m\u001b[0m\u001b[0m\n\u001b[1;32m      8\u001b[0m \u001b[0mplt\u001b[0m\u001b[0;34m.\u001b[0m\u001b[0mylabel\u001b[0m\u001b[0;34m(\u001b[0m\u001b[0;34m'Price'\u001b[0m\u001b[0;34m)\u001b[0m\u001b[0;34m\u001b[0m\u001b[0;34m\u001b[0m\u001b[0m\n",
      "\u001b[0;32m<ipython-input-26-0bf221e19def>\u001b[0m in \u001b[0;36m<dictcomp>\u001b[0;34m(.0)\u001b[0m\n\u001b[1;32m      4\u001b[0m \u001b[0;34m\u001b[0m\u001b[0m\n\u001b[1;32m      5\u001b[0m \u001b[0mplt\u001b[0m\u001b[0;34m.\u001b[0m\u001b[0mtitle\u001b[0m\u001b[0;34m(\u001b[0m\u001b[0;34m\"Nutritional Adequacy Varies price of Goat Meat\"\u001b[0m\u001b[0;34m)\u001b[0m\u001b[0;34m\u001b[0m\u001b[0;34m\u001b[0m\u001b[0m\n\u001b[0;32m----> 6\u001b[0;31m \u001b[0mplt\u001b[0m\u001b[0;34m.\u001b[0m\u001b[0mplot\u001b[0m\u001b[0;34m(\u001b[0m\u001b[0mpd\u001b[0m\u001b[0;34m.\u001b[0m\u001b[0mconcat\u001b[0m\u001b[0;34m(\u001b[0m\u001b[0;34m{\u001b[0m\u001b[0mp0\u001b[0m\u001b[0;34m:\u001b[0m\u001b[0mnp\u001b[0m\u001b[0;34m.\u001b[0m\u001b[0mlog\u001b[0m\u001b[0;34m(\u001b[0m\u001b[0mnutrient_adequacy_ratio\u001b[0m\u001b[0;34m(\u001b[0m\u001b[0mx\u001b[0m\u001b[0;34m,\u001b[0m\u001b[0mmy_prices\u001b[0m\u001b[0;34m(\u001b[0m\u001b[0mp0\u001b[0m\u001b[0;34m,\u001b[0m\u001b[0mi\u001b[0m\u001b[0;34m=\u001b[0m\u001b[0;34m'Goat Meat'\u001b[0m\u001b[0;34m)\u001b[0m\u001b[0;34m)\u001b[0m\u001b[0;34m)\u001b[0m\u001b[0;34m[\u001b[0m\u001b[0mUseNutrients\u001b[0m\u001b[0;34m]\u001b[0m \u001b[0;32mfor\u001b[0m \u001b[0mp0\u001b[0m \u001b[0;32min\u001b[0m \u001b[0mP\u001b[0m\u001b[0;34m}\u001b[0m\u001b[0;34m,\u001b[0m\u001b[0maxis\u001b[0m\u001b[0;34m=\u001b[0m\u001b[0;36m1\u001b[0m\u001b[0;34m)\u001b[0m\u001b[0;34m.\u001b[0m\u001b[0mT\u001b[0m\u001b[0;34m,\u001b[0m\u001b[0mP\u001b[0m\u001b[0;34m)\u001b[0m\u001b[0;34m\u001b[0m\u001b[0;34m\u001b[0m\u001b[0m\n\u001b[0m\u001b[1;32m      7\u001b[0m \u001b[0mplt\u001b[0m\u001b[0;34m.\u001b[0m\u001b[0mlegend\u001b[0m\u001b[0;34m(\u001b[0m\u001b[0mUseNutrients\u001b[0m\u001b[0;34m)\u001b[0m\u001b[0;34m\u001b[0m\u001b[0;34m\u001b[0m\u001b[0m\n\u001b[1;32m      8\u001b[0m \u001b[0mplt\u001b[0m\u001b[0;34m.\u001b[0m\u001b[0mylabel\u001b[0m\u001b[0;34m(\u001b[0m\u001b[0;34m'Price'\u001b[0m\u001b[0;34m)\u001b[0m\u001b[0;34m\u001b[0m\u001b[0;34m\u001b[0m\u001b[0m\n",
      "\u001b[0;31mNameError\u001b[0m: name 'nutrient_adequacy_ratio' is not defined"
     ]
    },
    {
     "data": {
      "image/png": "[encoded data removed]",
      "text/plain": [
       "<Figure size 432x288 with 1 Axes>"
      ]
     },
     "metadata": {
      "needs_background": "light"
     },
     "output_type": "display_data"
    }
   ],
   "source": [
    "x = 20 # Set budget to 20\n",
    "\n",
    "# Here, we vary the price of i, which is \"Goat Meat\"\n",
    "\n",
    "plt.title(\"Nutritional Adequacy Varies price of Goat Meat\")\n",
    "plt.plot(pd.concat({p0:np.log(nutrient_adequacy_ratio(x,my_prices(p0,i='Goat Meat')))[UseNutrients] for p0 in P},axis=1).T,P)\n",
    "plt.legend(UseNutrients)\n",
    "plt.ylabel('Price')\n",
    "plt.xlabel('log nutrient adequacy ratio')\n",
    "plt.axvline(0)\n",
    "plt.axhline(p.sel(i='Goat Meat').values)"
   ]
  },
  {
   "cell_type": "markdown",
   "metadata": {},
   "source": [
    "And varying the price of rice:\n",
    "\n"
   ]
  },
  {
   "cell_type": "code",
   "execution_count": 27,
   "metadata": {},
   "outputs": [
    {
     "ename": "NameError",
     "evalue": "name 'nutrient_adequacy_ratio' is not defined",
     "output_type": "error",
     "traceback": [
      "\u001b[0;31m---------------------------------------------------------------------------\u001b[0m",
      "\u001b[0;31mNameError\u001b[0m                                 Traceback (most recent call last)",
      "\u001b[0;32m<ipython-input-27-9749497c4aa9>\u001b[0m in \u001b[0;36m<module>\u001b[0;34m\u001b[0m\n\u001b[1;32m      4\u001b[0m \u001b[0;34m\u001b[0m\u001b[0m\n\u001b[1;32m      5\u001b[0m \u001b[0mplt\u001b[0m\u001b[0;34m.\u001b[0m\u001b[0mtitle\u001b[0m\u001b[0;34m(\u001b[0m\u001b[0;34m\"Nutritional Adequacy Varies price of Goat Meat\"\u001b[0m\u001b[0;34m)\u001b[0m\u001b[0;34m\u001b[0m\u001b[0;34m\u001b[0m\u001b[0m\n\u001b[0;32m----> 6\u001b[0;31m \u001b[0mplt\u001b[0m\u001b[0;34m.\u001b[0m\u001b[0mplot\u001b[0m\u001b[0;34m(\u001b[0m\u001b[0mpd\u001b[0m\u001b[0;34m.\u001b[0m\u001b[0mconcat\u001b[0m\u001b[0;34m(\u001b[0m\u001b[0;34m{\u001b[0m\u001b[0mp0\u001b[0m\u001b[0;34m:\u001b[0m\u001b[0mnp\u001b[0m\u001b[0;34m.\u001b[0m\u001b[0mlog\u001b[0m\u001b[0;34m(\u001b[0m\u001b[0mnutrient_adequacy_ratio\u001b[0m\u001b[0;34m(\u001b[0m\u001b[0mx\u001b[0m\u001b[0;34m,\u001b[0m\u001b[0mmy_prices\u001b[0m\u001b[0;34m(\u001b[0m\u001b[0mp0\u001b[0m\u001b[0;34m,\u001b[0m\u001b[0mi\u001b[0m\u001b[0;34m=\u001b[0m\u001b[0;34m'Goat Meat'\u001b[0m\u001b[0;34m)\u001b[0m\u001b[0;34m)\u001b[0m\u001b[0;34m)\u001b[0m\u001b[0;34m[\u001b[0m\u001b[0mUseNutrients\u001b[0m\u001b[0;34m]\u001b[0m \u001b[0;32mfor\u001b[0m \u001b[0mp0\u001b[0m \u001b[0;32min\u001b[0m \u001b[0mP\u001b[0m\u001b[0;34m}\u001b[0m\u001b[0;34m,\u001b[0m\u001b[0maxis\u001b[0m\u001b[0;34m=\u001b[0m\u001b[0;36m1\u001b[0m\u001b[0;34m)\u001b[0m\u001b[0;34m.\u001b[0m\u001b[0mT\u001b[0m\u001b[0;34m,\u001b[0m\u001b[0mP\u001b[0m\u001b[0;34m)\u001b[0m\u001b[0;34m\u001b[0m\u001b[0;34m\u001b[0m\u001b[0m\n\u001b[0m\u001b[1;32m      7\u001b[0m \u001b[0mplt\u001b[0m\u001b[0;34m.\u001b[0m\u001b[0mlegend\u001b[0m\u001b[0;34m(\u001b[0m\u001b[0mUseNutrients\u001b[0m\u001b[0;34m)\u001b[0m\u001b[0;34m\u001b[0m\u001b[0;34m\u001b[0m\u001b[0m\n\u001b[1;32m      8\u001b[0m \u001b[0mplt\u001b[0m\u001b[0;34m.\u001b[0m\u001b[0mylabel\u001b[0m\u001b[0;34m(\u001b[0m\u001b[0;34m'Price'\u001b[0m\u001b[0;34m)\u001b[0m\u001b[0;34m\u001b[0m\u001b[0;34m\u001b[0m\u001b[0m\n",
      "\u001b[0;32m<ipython-input-27-9749497c4aa9>\u001b[0m in \u001b[0;36m<dictcomp>\u001b[0;34m(.0)\u001b[0m\n\u001b[1;32m      4\u001b[0m \u001b[0;34m\u001b[0m\u001b[0m\n\u001b[1;32m      5\u001b[0m \u001b[0mplt\u001b[0m\u001b[0;34m.\u001b[0m\u001b[0mtitle\u001b[0m\u001b[0;34m(\u001b[0m\u001b[0;34m\"Nutritional Adequacy Varies price of Goat Meat\"\u001b[0m\u001b[0;34m)\u001b[0m\u001b[0;34m\u001b[0m\u001b[0;34m\u001b[0m\u001b[0m\n\u001b[0;32m----> 6\u001b[0;31m \u001b[0mplt\u001b[0m\u001b[0;34m.\u001b[0m\u001b[0mplot\u001b[0m\u001b[0;34m(\u001b[0m\u001b[0mpd\u001b[0m\u001b[0;34m.\u001b[0m\u001b[0mconcat\u001b[0m\u001b[0;34m(\u001b[0m\u001b[0;34m{\u001b[0m\u001b[0mp0\u001b[0m\u001b[0;34m:\u001b[0m\u001b[0mnp\u001b[0m\u001b[0;34m.\u001b[0m\u001b[0mlog\u001b[0m\u001b[0;34m(\u001b[0m\u001b[0mnutrient_adequacy_ratio\u001b[0m\u001b[0;34m(\u001b[0m\u001b[0mx\u001b[0m\u001b[0;34m,\u001b[0m\u001b[0mmy_prices\u001b[0m\u001b[0;34m(\u001b[0m\u001b[0mp0\u001b[0m\u001b[0;34m,\u001b[0m\u001b[0mi\u001b[0m\u001b[0;34m=\u001b[0m\u001b[0;34m'Goat Meat'\u001b[0m\u001b[0;34m)\u001b[0m\u001b[0;34m)\u001b[0m\u001b[0;34m)\u001b[0m\u001b[0;34m[\u001b[0m\u001b[0mUseNutrients\u001b[0m\u001b[0;34m]\u001b[0m \u001b[0;32mfor\u001b[0m \u001b[0mp0\u001b[0m \u001b[0;32min\u001b[0m \u001b[0mP\u001b[0m\u001b[0;34m}\u001b[0m\u001b[0;34m,\u001b[0m\u001b[0maxis\u001b[0m\u001b[0;34m=\u001b[0m\u001b[0;36m1\u001b[0m\u001b[0;34m)\u001b[0m\u001b[0;34m.\u001b[0m\u001b[0mT\u001b[0m\u001b[0;34m,\u001b[0m\u001b[0mP\u001b[0m\u001b[0;34m)\u001b[0m\u001b[0;34m\u001b[0m\u001b[0;34m\u001b[0m\u001b[0m\n\u001b[0m\u001b[1;32m      7\u001b[0m \u001b[0mplt\u001b[0m\u001b[0;34m.\u001b[0m\u001b[0mlegend\u001b[0m\u001b[0;34m(\u001b[0m\u001b[0mUseNutrients\u001b[0m\u001b[0;34m)\u001b[0m\u001b[0;34m\u001b[0m\u001b[0;34m\u001b[0m\u001b[0m\n\u001b[1;32m      8\u001b[0m \u001b[0mplt\u001b[0m\u001b[0;34m.\u001b[0m\u001b[0mylabel\u001b[0m\u001b[0;34m(\u001b[0m\u001b[0;34m'Price'\u001b[0m\u001b[0;34m)\u001b[0m\u001b[0;34m\u001b[0m\u001b[0;34m\u001b[0m\u001b[0m\n",
      "\u001b[0;31mNameError\u001b[0m: name 'nutrient_adequacy_ratio' is not defined"
     ]
    },
    {
     "data": {
      "image/png": "[encoded data removed]",
      "text/plain": [
       "<Figure size 432x288 with 1 Axes>"
      ]
     },
     "metadata": {
      "needs_background": "light"
     },
     "output_type": "display_data"
    }
   ],
   "source": [
    "x = 20\n",
    "\n",
    "# Here we do the same thing but instead of \n",
    "\n",
    "plt.title(\"Nutritional Adequacy Varies price of Goat Meat\")\n",
    "plt.plot(pd.concat({p0:np.log(nutrient_adequacy_ratio(x,my_prices(p0,i='Goat Meat')))[UseNutrients] for p0 in P},axis=1).T,P)\n",
    "plt.legend(UseNutrients)\n",
    "plt.ylabel('Price')\n",
    "plt.xlabel('log NAR')\n",
    "plt.axvline(0)\n",
    "plt.axhline(p.sel(i='Goat Meat').values)"
   ]
  },
  {
   "cell_type": "code",
   "execution_count": null,
   "metadata": {},
   "outputs": [],
   "source": []
  }
 ],
 "metadata": {
  "kernelspec": {
   "display_name": "Python 3",
   "language": "python",
   "name": "python3"
  },
  "language_info": {
   "codemirror_mode": {
    "name": "ipython",
    "version": 3
   },
   "file_extension": ".py",
   "mimetype": "text/x-python",
   "name": "python",
   "nbconvert_exporter": "python",
   "pygments_lexer": "ipython3",
   "version": "3.6.7"
  },
  "org": null
 },
 "nbformat": 4,
 "nbformat_minor": 1
}
