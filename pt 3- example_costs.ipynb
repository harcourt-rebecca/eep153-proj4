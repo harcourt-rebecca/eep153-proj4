{
 "cells": [
  {
   "cell_type": "markdown",
   "metadata": {},
   "source": [
    "## Preface\n",
    "\n"
   ]
  },
  {
   "cell_type": "markdown",
   "metadata": {},
   "source": [
    "First, load relevant dataset:\n",
    "\n"
   ]
  },
  {
   "cell_type": "code",
   "execution_count": 37,
   "metadata": {},
   "outputs": [
    {
     "name": "stdout",
     "output_type": "stream",
     "text": [
      "Requirement already satisfied: CFEDemands in /srv/app/venv/lib/python3.6/site-packages\r\n"
     ]
    }
   ],
   "source": [
    "!pip install CFEDemands\n",
    "import cfe\n",
    "import numpy as np\n",
    "import pandas as pd\n",
    "import matplotlib.pyplot as plt\n",
    "\n",
    "\n",
    "fct = pd.read_csv('fct-full-fct-full.csv').dropna(how='all')\n",
    "fct.set_index('Item name', inplace= True)\n",
    "\n",
    "\n",
    "r = cfe.from_dataset('TanzanianNPS/tanzanian_nps.ds')\n",
    "\n",
    "# Note selection of prices from 2014 and first market.\n",
    "t= 2014\n",
    "m= 1\n",
    "\n",
    "p = r.prices.sel(t=t, m=m).fillna(1).copy()\n",
    "newp = pd.read_csv('final-prices-our-prices-1.csv')\n",
    "p.values = newp.iloc[:,0].values\n",
    "\n",
    "# We will explore nutrition and policy options with respect to demand of this staple good\n",
    "USE_GOOD = \"Sweet Potatoes\"\n",
    "\n",
    "def my_prices(p0,p=p,i=USE_GOOD):\n",
    "    p = p.copy()\n",
    "    newp = pd.read_csv('final-prices-our-prices-1.csv')\n",
    "    p.values = newp.iloc[:,0].values\n",
    "    p.loc[i] = p0\n",
    "    return p\n",
    "\n",
    "# Now fix up FCT\n",
    "# Change some labels\n",
    "\n",
    "d={'Item name': 'Item',\n",
    "   'protein g':'Protein',\n",
    "   'energy kcal':'Calories',\n",
    "   'ca mg':'Calcium',\n",
    "   'mg mg': 'Magnesium',\n",
    "   'fe mg':'Iron',\n",
    "   'zn mg':'Zinc',\n",
    "   'vit a ug':'Vitamin A',\n",
    "   'vit d ug':'Vitamin D',\n",
    "   'vit e ug':'Vitamin E',\n",
    "   'vit c mg':'Vitamin C',\n",
    "   'vit b6 mg': 'Vitamin B6'}\n",
    "\n",
    "fct = fct.rename(columns=d) #[list(d.values())]\n",
    "\n",
    "\n",
    "# Replace missing with zeros\n",
    "fct = fct.fillna(0)\n",
    "\n",
    "try:\n",
    "    fct.index = fct.index.droplevel('unit')\n",
    "except AttributeError: pass # No units?\n",
    "\n",
    "def nutrient_demand(x,p,z=None):\n",
    "    c = r.demands(x,p,z=z)\n",
    "    fct0,c0 = fct.align(c,axis=0,join='inner')\n",
    "    fct0= fct0.replace(np.nan,0)\n",
    "    N = fct0.T@c0\n",
    "\n",
    "    return N\n",
    "\n",
    "# Import recommended minimum daily nutritional requirements\n",
    "rda = pd.read_csv('Tanzania Daily Nutrition Minimum Requirement - nutrition-final.csv').set_index(['age'])\n",
    "\n",
    "#change some labels\n",
    "d={'child02': 'C 0-2',\n",
    "   'child25': 'C 2-5',\n",
    "   'child69': 'C 6-9',\n",
    "   'child1014':'C 10-14',\n",
    "   'child1517':'C 15-17',\n",
    "   'men': 'Men',\n",
    "   'women': 'Women'}\n",
    "\n",
    "e={'protein (g)':'Protein',\n",
    "   'energy (kcal)':'Calories',\n",
    "   'calcium (mg)':'Calcium',\n",
    "   'magnesium (mg)': 'Magnesium',\n",
    "   'iron (mg)':'Iron',\n",
    "   'zinc (mg)':'Zinc',\n",
    "   'vitamin a (ug)':'Vitamin A',\n",
    "   'vitamin d (ug)':'Vitamin D',\n",
    "   'vitamin e (ug)':'Vitamin E',\n",
    "   'vitamin c (mg)':'Vitamin C'\n",
    "   #'vit b6 mg': 'Vitamin B6'\n",
    "  }\n",
    "\n",
    "   \n",
    "rda = rda.rename(index=d).rename(columns=e)[list(e.values())]\n",
    "\n",
    "# In first round, averaged over households and villages, zbar is the average household but in our own experiements can \n",
    "# make zbar equal to households only with children\n",
    "zbar = r.z.sel(t=r.firstround).mean(['j','m'])[:-1] # Leave out log HSize\n",
    "\n",
    "# This matrix product gives minimum nutrient requirements for average\n",
    "# household in first round\n",
    "rda\n",
    "hh_rda = rda.replace('',0).T@zbar\n",
    "\n",
    "def nutrient_adequacy_ratio(x,p):\n",
    "    return nutrient_demand(x,p)/hh_rda"
   ]
  },
  {
   "cell_type": "code",
   "execution_count": 38,
   "metadata": {},
   "outputs": [
    {
     "data": {
      "text/html": [
       "<div>\n",
       "<style scoped>\n",
       "    .dataframe tbody tr th:only-of-type {\n",
       "        vertical-align: middle;\n",
       "    }\n",
       "\n",
       "    .dataframe tbody tr th {\n",
       "        vertical-align: top;\n",
       "    }\n",
       "\n",
       "    .dataframe thead th {\n",
       "        text-align: right;\n",
       "    }\n",
       "</style>\n",
       "<table border=\"1\" class=\"dataframe\">\n",
       "  <thead>\n",
       "    <tr style=\"text-align: right;\">\n",
       "      <th></th>\n",
       "      <th>Calories</th>\n",
       "      <th>Protein</th>\n",
       "      <th>Vitamin A</th>\n",
       "      <th>Vitamin D</th>\n",
       "      <th>Vitamin E</th>\n",
       "      <th>Vitamin C</th>\n",
       "      <th>Vitamin B6</th>\n",
       "      <th>vit b12 ug</th>\n",
       "      <th>Calcium</th>\n",
       "      <th>Magnesium</th>\n",
       "      <th>Iron</th>\n",
       "      <th>Zinc</th>\n",
       "    </tr>\n",
       "    <tr>\n",
       "      <th>Item name</th>\n",
       "      <th></th>\n",
       "      <th></th>\n",
       "      <th></th>\n",
       "      <th></th>\n",
       "      <th></th>\n",
       "      <th></th>\n",
       "      <th></th>\n",
       "      <th></th>\n",
       "      <th></th>\n",
       "      <th></th>\n",
       "      <th></th>\n",
       "      <th></th>\n",
       "    </tr>\n",
       "  </thead>\n",
       "  <tbody>\n",
       "    <tr>\n",
       "      <th>Rice (Paddy)</th>\n",
       "      <td>358.0</td>\n",
       "      <td>6.5</td>\n",
       "      <td>0.0</td>\n",
       "      <td>0.0</td>\n",
       "      <td>0.0</td>\n",
       "      <td>0.0</td>\n",
       "      <td>0.1</td>\n",
       "      <td>0.0</td>\n",
       "      <td>8.0</td>\n",
       "      <td>36.0</td>\n",
       "      <td>0.6</td>\n",
       "      <td>1.1</td>\n",
       "    </tr>\n",
       "    <tr>\n",
       "      <th>Rice (Husked)</th>\n",
       "      <td>358.0</td>\n",
       "      <td>6.5</td>\n",
       "      <td>0.0</td>\n",
       "      <td>0.0</td>\n",
       "      <td>0.0</td>\n",
       "      <td>0.0</td>\n",
       "      <td>0.1</td>\n",
       "      <td>0.0</td>\n",
       "      <td>8.0</td>\n",
       "      <td>36.0</td>\n",
       "      <td>0.6</td>\n",
       "      <td>1.1</td>\n",
       "    </tr>\n",
       "    <tr>\n",
       "      <th>Maize (Green, Cob, immature)</th>\n",
       "      <td>59.0</td>\n",
       "      <td>1.8</td>\n",
       "      <td>7.0</td>\n",
       "      <td>0.0</td>\n",
       "      <td>0.0</td>\n",
       "      <td>3.0</td>\n",
       "      <td>0.0</td>\n",
       "      <td>0.0</td>\n",
       "      <td>1.0</td>\n",
       "      <td>18.0</td>\n",
       "      <td>0.3</td>\n",
       "      <td>0.3</td>\n",
       "    </tr>\n",
       "    <tr>\n",
       "      <th>Maize (Grain, dry, raw)</th>\n",
       "      <td>362.0</td>\n",
       "      <td>8.1</td>\n",
       "      <td>0.0</td>\n",
       "      <td>0.0</td>\n",
       "      <td>1.0</td>\n",
       "      <td>0.0</td>\n",
       "      <td>0.3</td>\n",
       "      <td>0.0</td>\n",
       "      <td>6.0</td>\n",
       "      <td>127.0</td>\n",
       "      <td>3.5</td>\n",
       "      <td>1.8</td>\n",
       "    </tr>\n",
       "    <tr>\n",
       "      <th>Maize (Flour)</th>\n",
       "      <td>362.0</td>\n",
       "      <td>8.1</td>\n",
       "      <td>0.0</td>\n",
       "      <td>0.0</td>\n",
       "      <td>1.0</td>\n",
       "      <td>0.0</td>\n",
       "      <td>0.3</td>\n",
       "      <td>0.0</td>\n",
       "      <td>6.0</td>\n",
       "      <td>127.0</td>\n",
       "      <td>3.5</td>\n",
       "      <td>1.8</td>\n",
       "    </tr>\n",
       "  </tbody>\n",
       "</table>\n",
       "</div>"
      ],
      "text/plain": [
       "                              Calories  Protein  Vitamin A  Vitamin D  \\\n",
       "Item name                                                               \n",
       "Rice (Paddy)                     358.0      6.5        0.0        0.0   \n",
       "Rice (Husked)                    358.0      6.5        0.0        0.0   \n",
       "Maize (Green, Cob, immature)      59.0      1.8        7.0        0.0   \n",
       "Maize (Grain, dry, raw)          362.0      8.1        0.0        0.0   \n",
       "Maize (Flour)                    362.0      8.1        0.0        0.0   \n",
       "\n",
       "                              Vitamin E  Vitamin C  Vitamin B6  vit b12 ug  \\\n",
       "Item name                                                                    \n",
       "Rice (Paddy)                        0.0        0.0         0.1         0.0   \n",
       "Rice (Husked)                       0.0        0.0         0.1         0.0   \n",
       "Maize (Green, Cob, immature)        0.0        3.0         0.0         0.0   \n",
       "Maize (Grain, dry, raw)             1.0        0.0         0.3         0.0   \n",
       "Maize (Flour)                       1.0        0.0         0.3         0.0   \n",
       "\n",
       "                              Calcium  Magnesium  Iron  Zinc  \n",
       "Item name                                                     \n",
       "Rice (Paddy)                      8.0       36.0   0.6   1.1  \n",
       "Rice (Husked)                     8.0       36.0   0.6   1.1  \n",
       "Maize (Green, Cob, immature)      1.0       18.0   0.3   0.3  \n",
       "Maize (Grain, dry, raw)           6.0      127.0   3.5   1.8  \n",
       "Maize (Flour)                     6.0      127.0   3.5   1.8  "
      ]
     },
     "execution_count": 38,
     "metadata": {},
     "output_type": "execute_result"
    }
   ],
   "source": [
    "fct.head()"
   ]
  },
  {
   "cell_type": "markdown",
   "metadata": {},
   "source": [
    "## Simple Policy Experiments\n",
    "\n"
   ]
  },
  {
   "cell_type": "markdown",
   "metadata": {},
   "source": [
    "We will consider two policies: First, changing income so that some proportion\n",
    "of the population achieves nutritional adequacy. In this example, we will use the median household budget of 6311 tanzanian shillings."
   ]
  },
  {
   "cell_type": "code",
   "execution_count": 39,
   "metadata": {},
   "outputs": [],
   "source": [
    "# Assign Budget (median household)\n",
    "x0 = 6311"
   ]
  },
  {
   "cell_type": "code",
   "execution_count": 40,
   "metadata": {},
   "outputs": [
    {
     "data": {
      "text/plain": [
       "<matplotlib.lines.Line2D at 0x7f99fab6ef98>"
      ]
     },
     "execution_count": 40,
     "metadata": {},
     "output_type": "execute_result"
    },
    {
     "data": {
      "image/png": "[encoded data removed]",
      "text/plain": [
       "<Figure size 432x288 with 1 Axes>"
      ]
     },
     "metadata": {
      "needs_background": "light"
     },
     "output_type": "display_data"
    }
   ],
   "source": [
    "# We will plot the nutritional outcomes for a median household budget\n",
    "\n",
    "import matplotlib.pyplot as plt\n",
    "import numpy as np\n",
    "\n",
    "X = np.linspace(x0/10,x0*5,50)\n",
    "\n",
    "UseNutrients = ['Protein','Calories','Iron','Calcium']\n",
    "plt.plot(X,pd.concat({x:np.log(nutrient_adequacy_ratio(x,p))[UseNutrients] for x in X},axis=1).T)\n",
    "plt.legend(UseNutrients)\n",
    "plt.xlabel('Budget')\n",
    "plt.ylabel('log nutrient adequacy ratio')\n",
    "plt.title('Nutritional Outcomes for Median HH Budget')\n",
    "plt.axhline(0)\n",
    "plt.axvline(x0)"
   ]
  },
  {
   "cell_type": "markdown",
   "metadata": {},
   "source": [
    "This shows that for an entire diet to achieve nutritional adequacy, people need a budget equivalent to ~11,000 Shillings. These curves are Engel curves for general nutritional outcomes and simulates what an income transfer would look like. This policy simulation assumes no transaction costs, assumes the nutrient demand system doesn't take into account other utilities for other goods, assumes that income transfer won't change prices, that household size stays the same, and that the supply curve is perfectly elastic from competition or trade, and constant economies of scale."
   ]
  },
  {
   "cell_type": "markdown",
   "metadata": {},
   "source": [
    "As before, we can also vary relative prices.  Here we trace out\n",
    "nutritional adequacy varying the price of a single good:\n",
    "\n"
   ]
  },
  {
   "cell_type": "code",
   "execution_count": 42,
   "metadata": {},
   "outputs": [
    {
     "data": {
      "text/plain": [
       "<matplotlib.lines.Line2D at 0x7f99faa21e10>"
      ]
     },
     "execution_count": 42,
     "metadata": {},
     "output_type": "execute_result"
    },
    {
     "data": {
      "image/png": "[encoded data removed]",
      "text/plain": [
       "<Figure size 432x288 with 1 Axes>"
      ]
     },
     "metadata": {
      "needs_background": "light"
     },
     "output_type": "display_data"
    }
   ],
   "source": [
    "median_x = x0\n",
    "USE_GOOD = \"Sweet Potatoes\"\n",
    "\n",
    "ref_price = r.prices.sel(i=USE_GOOD,t=t,m=m)\n",
    "P = np.linspace(ref_price/10,ref_price*5,50)\n",
    "\n",
    "plt.plot(pd.concat({p0:np.log(nutrient_adequacy_ratio(median_x,my_prices(p0,i=USE_GOOD)))[UseNutrients] for p0 in P},axis=1).T,P)\n",
    "plt.legend(UseNutrients)\n",
    "plt.ylabel('Price')\n",
    "plt.xlabel('log nutrient adequacy ratio')\n",
    "plt.title('Nutritional Adequacy as Prices of Sweet Potatoes Change')\n",
    "plt.axvline(0)\n",
    "plt.axhline(p.sel(i=USE_GOOD).values)"
   ]
  },
  {
   "cell_type": "markdown",
   "metadata": {},
   "source": [
    "This plot shows that as prices decreases for sweet potatoes, the typical household's nutritent adequacy ratio increases. At around 5 shillings, households are able to achieve nutrient adequacy for protein, calories, and iron. However for calcium adequacy, the household requires a price closer to 0."
   ]
  },
  {
   "cell_type": "code",
   "execution_count": 44,
   "metadata": {},
   "outputs": [
    {
     "data": {
      "text/plain": [
       "<matplotlib.lines.Line2D at 0x7f99fa9134e0>"
      ]
     },
     "execution_count": 44,
     "metadata": {},
     "output_type": "execute_result"
    },
    {
     "data": {
      "image/png": "[encoded data removed]",
      "text/plain": [
       "<Figure size 432x288 with 1 Axes>"
      ]
     },
     "metadata": {
      "needs_background": "light"
     },
     "output_type": "display_data"
    }
   ],
   "source": [
    "# Now we will plot the demand curve for sweet potatoes. \n",
    "\n",
    "USE_GOOD = \"Sweet Potatoes\"\n",
    "plt.plot([r.demands(median_x,my_prices(p0,i=USE_GOOD))[USE_GOOD] for p0 in P],P)\n",
    "plt.ylabel('Price')\n",
    "plt.title('Demand of Sweet Potatoes')\n",
    "plt.xlabel(USE_GOOD)\n",
    "plt.axhline(p.sel(i=USE_GOOD).values)"
   ]
  },
  {
   "cell_type": "markdown",
   "metadata": {},
   "source": [
    "As you can see, as price increases, the quantity demanded of sweet potatoes decreases. As price decreases, the quantity demanded of sweet potatoes increases."
   ]
  },
  {
   "cell_type": "markdown",
   "metadata": {},
   "source": [
    "## Compensated Policy Experiments\n",
    "\n"
   ]
  },
  {
   "cell_type": "code",
   "execution_count": 45,
   "metadata": {},
   "outputs": [
    {
     "data": {
      "text/plain": [
       "<matplotlib.legend.Legend at 0x7f99fa885198>"
      ]
     },
     "execution_count": 45,
     "metadata": {},
     "output_type": "execute_result"
    },
    {
     "data": {
      "image/png": "[encoded data removed]",
      "text/plain": [
       "<Figure size 432x288 with 1 Axes>"
      ]
     },
     "metadata": {
      "needs_background": "light"
     },
     "output_type": "display_data"
    }
   ],
   "source": [
    "# Now we will plot Marshallian and Hicksian demand curves for sweet potatoes \n",
    "\n",
    "U0 = cfe.demands.marshallian.indirect_utility(x0,p,np.exp(r.alpha),r.beta,0)\n",
    "\n",
    "plt.plot([r.demands(median_x,my_prices(p0,i=USE_GOOD))[USE_GOOD] for p0 in P],P)\n",
    "plt.plot([r.demands(median_x,my_prices(p0,i=USE_GOOD),type=\"Hicksian\")[USE_GOOD] for p0 in P],P)\n",
    "plt.ylabel('Price')\n",
    "plt.title('Hicksian and Marshallian Demand Curves for Sweet Potatoes')\n",
    "plt.xlabel(USE_GOOD)\n",
    "#plt.axhline(p.sel(i=USE_GOOD).values)\n",
    "plt.legend((\"Marshallian\",\"Hicksian\"))"
   ]
  },
  {
   "cell_type": "markdown",
   "metadata": {},
   "source": [
    "Hicksian demand curves show the relationship between the price of a good and the quantity demanded of it assuming that the prices of other goods and our level of utility remain constant. Marshallian demand curves reflect both rent effect and substitution effect."
   ]
  },
  {
   "cell_type": "code",
   "execution_count": 46,
   "metadata": {},
   "outputs": [
    {
     "ename": "FileNotFoundError",
     "evalue": "File b'our-prices.csv' does not exist",
     "output_type": "error",
     "traceback": [
      "\u001b[0;31m---------------------------------------------------------------------------\u001b[0m",
      "\u001b[0;31mFileNotFoundError\u001b[0m                         Traceback (most recent call last)",
      "\u001b[0;32m<ipython-input-46-ab7c654616e5>\u001b[0m in \u001b[0;36m<module>\u001b[0;34m\u001b[0m\n\u001b[1;32m     11\u001b[0m     \u001b[0;32mreturn\u001b[0m \u001b[0mx1\u001b[0m\u001b[0;34m-\u001b[0m\u001b[0mx0\u001b[0m\u001b[0;34m\u001b[0m\u001b[0;34m\u001b[0m\u001b[0m\n\u001b[1;32m     12\u001b[0m \u001b[0;34m\u001b[0m\u001b[0m\n\u001b[0;32m---> 13\u001b[0;31m \u001b[0mcompensating_variation\u001b[0m\u001b[0;34m(\u001b[0m\u001b[0mU0\u001b[0m\u001b[0;34m,\u001b[0m\u001b[0mp\u001b[0m\u001b[0;34m,\u001b[0m\u001b[0mmy_prices\u001b[0m\u001b[0;34m(\u001b[0m\u001b[0;36m1\u001b[0m\u001b[0;34m)\u001b[0m\u001b[0;34m)\u001b[0m\u001b[0;34m\u001b[0m\u001b[0;34m\u001b[0m\u001b[0m\n\u001b[0m",
      "\u001b[0;32m<ipython-input-46-ab7c654616e5>\u001b[0m in \u001b[0;36mcompensating_variation\u001b[0;34m(U0, p0, p1)\u001b[0m\n\u001b[1;32m      4\u001b[0m \u001b[0;32mdef\u001b[0m \u001b[0mcompensating_variation\u001b[0m\u001b[0;34m(\u001b[0m\u001b[0mU0\u001b[0m\u001b[0;34m,\u001b[0m\u001b[0mp0\u001b[0m\u001b[0;34m,\u001b[0m\u001b[0mp1\u001b[0m\u001b[0;34m)\u001b[0m\u001b[0;34m:\u001b[0m\u001b[0;34m\u001b[0m\u001b[0;34m\u001b[0m\u001b[0m\n\u001b[1;32m      5\u001b[0m     \u001b[0mp\u001b[0m \u001b[0;34m=\u001b[0m \u001b[0mr\u001b[0m\u001b[0;34m.\u001b[0m\u001b[0mprices\u001b[0m\u001b[0;34m.\u001b[0m\u001b[0msel\u001b[0m\u001b[0;34m(\u001b[0m\u001b[0mt\u001b[0m\u001b[0;34m=\u001b[0m\u001b[0mt\u001b[0m\u001b[0;34m,\u001b[0m\u001b[0mm\u001b[0m\u001b[0;34m=\u001b[0m\u001b[0mm\u001b[0m\u001b[0;34m)\u001b[0m\u001b[0;34m.\u001b[0m\u001b[0mfillna\u001b[0m\u001b[0;34m(\u001b[0m\u001b[0;36m1\u001b[0m\u001b[0;34m)\u001b[0m\u001b[0;34m.\u001b[0m\u001b[0mcopy\u001b[0m\u001b[0;34m(\u001b[0m\u001b[0;34m)\u001b[0m\u001b[0;34m\u001b[0m\u001b[0;34m\u001b[0m\u001b[0m\n\u001b[0;32m----> 6\u001b[0;31m     \u001b[0mnewp\u001b[0m \u001b[0;34m=\u001b[0m \u001b[0mpd\u001b[0m\u001b[0;34m.\u001b[0m\u001b[0mread_csv\u001b[0m\u001b[0;34m(\u001b[0m\u001b[0;34m'our-prices.csv'\u001b[0m\u001b[0;34m)\u001b[0m\u001b[0;34m\u001b[0m\u001b[0;34m\u001b[0m\u001b[0m\n\u001b[0m\u001b[1;32m      7\u001b[0m     \u001b[0mp\u001b[0m\u001b[0;34m.\u001b[0m\u001b[0mvalues\u001b[0m \u001b[0;34m=\u001b[0m \u001b[0mnewp\u001b[0m\u001b[0;34m.\u001b[0m\u001b[0miloc\u001b[0m\u001b[0;34m[\u001b[0m\u001b[0;34m:\u001b[0m\u001b[0;34m,\u001b[0m\u001b[0;36m0\u001b[0m\u001b[0;34m]\u001b[0m\u001b[0;34m.\u001b[0m\u001b[0mvalues\u001b[0m\u001b[0;34m\u001b[0m\u001b[0;34m\u001b[0m\u001b[0m\n\u001b[1;32m      8\u001b[0m     \u001b[0mx0\u001b[0m \u001b[0;34m=\u001b[0m \u001b[0mcfe\u001b[0m\u001b[0;34m.\u001b[0m\u001b[0mdemands\u001b[0m\u001b[0;34m.\u001b[0m\u001b[0mhicksian\u001b[0m\u001b[0;34m.\u001b[0m\u001b[0mexpenditurefunction\u001b[0m\u001b[0;34m(\u001b[0m\u001b[0mU0\u001b[0m\u001b[0;34m,\u001b[0m\u001b[0mp0\u001b[0m\u001b[0;34m,\u001b[0m\u001b[0mnp\u001b[0m\u001b[0;34m.\u001b[0m\u001b[0mexp\u001b[0m\u001b[0;34m(\u001b[0m\u001b[0mr\u001b[0m\u001b[0;34m.\u001b[0m\u001b[0malpha\u001b[0m\u001b[0;34m)\u001b[0m\u001b[0;34m,\u001b[0m\u001b[0mr\u001b[0m\u001b[0;34m.\u001b[0m\u001b[0mbeta\u001b[0m\u001b[0;34m,\u001b[0m\u001b[0;36m0\u001b[0m\u001b[0;34m)\u001b[0m\u001b[0;34m\u001b[0m\u001b[0;34m\u001b[0m\u001b[0m\n",
      "\u001b[0;32m/srv/app/venv/lib/python3.6/site-packages/pandas/io/parsers.py\u001b[0m in \u001b[0;36mparser_f\u001b[0;34m(filepath_or_buffer, sep, delimiter, header, names, index_col, usecols, squeeze, prefix, mangle_dupe_cols, dtype, engine, converters, true_values, false_values, skipinitialspace, skiprows, nrows, na_values, keep_default_na, na_filter, verbose, skip_blank_lines, parse_dates, infer_datetime_format, keep_date_col, date_parser, dayfirst, iterator, chunksize, compression, thousands, decimal, lineterminator, quotechar, quoting, escapechar, comment, encoding, dialect, tupleize_cols, error_bad_lines, warn_bad_lines, skipfooter, doublequote, delim_whitespace, low_memory, memory_map, float_precision)\u001b[0m\n\u001b[1;32m    676\u001b[0m                     skip_blank_lines=skip_blank_lines)\n\u001b[1;32m    677\u001b[0m \u001b[0;34m\u001b[0m\u001b[0m\n\u001b[0;32m--> 678\u001b[0;31m         \u001b[0;32mreturn\u001b[0m \u001b[0m_read\u001b[0m\u001b[0;34m(\u001b[0m\u001b[0mfilepath_or_buffer\u001b[0m\u001b[0;34m,\u001b[0m \u001b[0mkwds\u001b[0m\u001b[0;34m)\u001b[0m\u001b[0;34m\u001b[0m\u001b[0;34m\u001b[0m\u001b[0m\n\u001b[0m\u001b[1;32m    679\u001b[0m \u001b[0;34m\u001b[0m\u001b[0m\n\u001b[1;32m    680\u001b[0m     \u001b[0mparser_f\u001b[0m\u001b[0;34m.\u001b[0m\u001b[0m__name__\u001b[0m \u001b[0;34m=\u001b[0m \u001b[0mname\u001b[0m\u001b[0;34m\u001b[0m\u001b[0;34m\u001b[0m\u001b[0m\n",
      "\u001b[0;32m/srv/app/venv/lib/python3.6/site-packages/pandas/io/parsers.py\u001b[0m in \u001b[0;36m_read\u001b[0;34m(filepath_or_buffer, kwds)\u001b[0m\n\u001b[1;32m    438\u001b[0m \u001b[0;34m\u001b[0m\u001b[0m\n\u001b[1;32m    439\u001b[0m     \u001b[0;31m# Create the parser.\u001b[0m\u001b[0;34m\u001b[0m\u001b[0;34m\u001b[0m\u001b[0;34m\u001b[0m\u001b[0m\n\u001b[0;32m--> 440\u001b[0;31m     \u001b[0mparser\u001b[0m \u001b[0;34m=\u001b[0m \u001b[0mTextFileReader\u001b[0m\u001b[0;34m(\u001b[0m\u001b[0mfilepath_or_buffer\u001b[0m\u001b[0;34m,\u001b[0m \u001b[0;34m**\u001b[0m\u001b[0mkwds\u001b[0m\u001b[0;34m)\u001b[0m\u001b[0;34m\u001b[0m\u001b[0;34m\u001b[0m\u001b[0m\n\u001b[0m\u001b[1;32m    441\u001b[0m \u001b[0;34m\u001b[0m\u001b[0m\n\u001b[1;32m    442\u001b[0m     \u001b[0;32mif\u001b[0m \u001b[0mchunksize\u001b[0m \u001b[0;32mor\u001b[0m \u001b[0miterator\u001b[0m\u001b[0;34m:\u001b[0m\u001b[0;34m\u001b[0m\u001b[0;34m\u001b[0m\u001b[0m\n",
      "\u001b[0;32m/srv/app/venv/lib/python3.6/site-packages/pandas/io/parsers.py\u001b[0m in \u001b[0;36m__init__\u001b[0;34m(self, f, engine, **kwds)\u001b[0m\n\u001b[1;32m    785\u001b[0m             \u001b[0mself\u001b[0m\u001b[0;34m.\u001b[0m\u001b[0moptions\u001b[0m\u001b[0;34m[\u001b[0m\u001b[0;34m'has_index_names'\u001b[0m\u001b[0;34m]\u001b[0m \u001b[0;34m=\u001b[0m \u001b[0mkwds\u001b[0m\u001b[0;34m[\u001b[0m\u001b[0;34m'has_index_names'\u001b[0m\u001b[0;34m]\u001b[0m\u001b[0;34m\u001b[0m\u001b[0;34m\u001b[0m\u001b[0m\n\u001b[1;32m    786\u001b[0m \u001b[0;34m\u001b[0m\u001b[0m\n\u001b[0;32m--> 787\u001b[0;31m         \u001b[0mself\u001b[0m\u001b[0;34m.\u001b[0m\u001b[0m_make_engine\u001b[0m\u001b[0;34m(\u001b[0m\u001b[0mself\u001b[0m\u001b[0;34m.\u001b[0m\u001b[0mengine\u001b[0m\u001b[0;34m)\u001b[0m\u001b[0;34m\u001b[0m\u001b[0;34m\u001b[0m\u001b[0m\n\u001b[0m\u001b[1;32m    788\u001b[0m \u001b[0;34m\u001b[0m\u001b[0m\n\u001b[1;32m    789\u001b[0m     \u001b[0;32mdef\u001b[0m \u001b[0mclose\u001b[0m\u001b[0;34m(\u001b[0m\u001b[0mself\u001b[0m\u001b[0;34m)\u001b[0m\u001b[0;34m:\u001b[0m\u001b[0;34m\u001b[0m\u001b[0;34m\u001b[0m\u001b[0m\n",
      "\u001b[0;32m/srv/app/venv/lib/python3.6/site-packages/pandas/io/parsers.py\u001b[0m in \u001b[0;36m_make_engine\u001b[0;34m(self, engine)\u001b[0m\n\u001b[1;32m   1012\u001b[0m     \u001b[0;32mdef\u001b[0m \u001b[0m_make_engine\u001b[0m\u001b[0;34m(\u001b[0m\u001b[0mself\u001b[0m\u001b[0;34m,\u001b[0m \u001b[0mengine\u001b[0m\u001b[0;34m=\u001b[0m\u001b[0;34m'c'\u001b[0m\u001b[0;34m)\u001b[0m\u001b[0;34m:\u001b[0m\u001b[0;34m\u001b[0m\u001b[0;34m\u001b[0m\u001b[0m\n\u001b[1;32m   1013\u001b[0m         \u001b[0;32mif\u001b[0m \u001b[0mengine\u001b[0m \u001b[0;34m==\u001b[0m \u001b[0;34m'c'\u001b[0m\u001b[0;34m:\u001b[0m\u001b[0;34m\u001b[0m\u001b[0;34m\u001b[0m\u001b[0m\n\u001b[0;32m-> 1014\u001b[0;31m             \u001b[0mself\u001b[0m\u001b[0;34m.\u001b[0m\u001b[0m_engine\u001b[0m \u001b[0;34m=\u001b[0m \u001b[0mCParserWrapper\u001b[0m\u001b[0;34m(\u001b[0m\u001b[0mself\u001b[0m\u001b[0;34m.\u001b[0m\u001b[0mf\u001b[0m\u001b[0;34m,\u001b[0m \u001b[0;34m**\u001b[0m\u001b[0mself\u001b[0m\u001b[0;34m.\u001b[0m\u001b[0moptions\u001b[0m\u001b[0;34m)\u001b[0m\u001b[0;34m\u001b[0m\u001b[0;34m\u001b[0m\u001b[0m\n\u001b[0m\u001b[1;32m   1015\u001b[0m         \u001b[0;32melse\u001b[0m\u001b[0;34m:\u001b[0m\u001b[0;34m\u001b[0m\u001b[0;34m\u001b[0m\u001b[0m\n\u001b[1;32m   1016\u001b[0m             \u001b[0;32mif\u001b[0m \u001b[0mengine\u001b[0m \u001b[0;34m==\u001b[0m \u001b[0;34m'python'\u001b[0m\u001b[0;34m:\u001b[0m\u001b[0;34m\u001b[0m\u001b[0;34m\u001b[0m\u001b[0m\n",
      "\u001b[0;32m/srv/app/venv/lib/python3.6/site-packages/pandas/io/parsers.py\u001b[0m in \u001b[0;36m__init__\u001b[0;34m(self, src, **kwds)\u001b[0m\n\u001b[1;32m   1706\u001b[0m         \u001b[0mkwds\u001b[0m\u001b[0;34m[\u001b[0m\u001b[0;34m'usecols'\u001b[0m\u001b[0;34m]\u001b[0m \u001b[0;34m=\u001b[0m \u001b[0mself\u001b[0m\u001b[0;34m.\u001b[0m\u001b[0musecols\u001b[0m\u001b[0;34m\u001b[0m\u001b[0;34m\u001b[0m\u001b[0m\n\u001b[1;32m   1707\u001b[0m \u001b[0;34m\u001b[0m\u001b[0m\n\u001b[0;32m-> 1708\u001b[0;31m         \u001b[0mself\u001b[0m\u001b[0;34m.\u001b[0m\u001b[0m_reader\u001b[0m \u001b[0;34m=\u001b[0m \u001b[0mparsers\u001b[0m\u001b[0;34m.\u001b[0m\u001b[0mTextReader\u001b[0m\u001b[0;34m(\u001b[0m\u001b[0msrc\u001b[0m\u001b[0;34m,\u001b[0m \u001b[0;34m**\u001b[0m\u001b[0mkwds\u001b[0m\u001b[0;34m)\u001b[0m\u001b[0;34m\u001b[0m\u001b[0;34m\u001b[0m\u001b[0m\n\u001b[0m\u001b[1;32m   1709\u001b[0m \u001b[0;34m\u001b[0m\u001b[0m\n\u001b[1;32m   1710\u001b[0m         \u001b[0mpassed_names\u001b[0m \u001b[0;34m=\u001b[0m \u001b[0mself\u001b[0m\u001b[0;34m.\u001b[0m\u001b[0mnames\u001b[0m \u001b[0;32mis\u001b[0m \u001b[0;32mNone\u001b[0m\u001b[0;34m\u001b[0m\u001b[0;34m\u001b[0m\u001b[0m\n",
      "\u001b[0;32mpandas/_libs/parsers.pyx\u001b[0m in \u001b[0;36mpandas._libs.parsers.TextReader.__cinit__\u001b[0;34m()\u001b[0m\n",
      "\u001b[0;32mpandas/_libs/parsers.pyx\u001b[0m in \u001b[0;36mpandas._libs.parsers.TextReader._setup_parser_source\u001b[0;34m()\u001b[0m\n",
      "\u001b[0;31mFileNotFoundError\u001b[0m: File b'our-prices.csv' does not exist"
     ]
    }
   ],
   "source": [
    "# Now we will calculate how much we need to spend to achieve the same utility with old prices and\n",
    "# how much we need to spend to achieve utility with new prices  (x1- x0)\n",
    "\n",
    "def compensating_variation(U0,p0,p1):\n",
    "    p = r.prices.sel(t=t,m=m).fillna(1).copy()\n",
    "    newp = pd.read_csv('our-prices.csv')\n",
    "    p.values = newp.iloc[:,0].values\n",
    "    x0 = cfe.demands.hicksian.expenditurefunction(U0,p0,np.exp(r.alpha),r.beta,0)\n",
    "    x1 =  cfe.demands.hicksian.expenditurefunction(U0,p1,np.exp(r.alpha),r.beta,0)\n",
    "\n",
    "    return x1-x0\n",
    "\n",
    "compensating_variation(U0,p,my_prices(1))"
   ]
  },
  {
   "cell_type": "markdown",
   "metadata": {},
   "source": [
    "If we decrease prices from 16 shillings to 1 shilling for 100 grams of sweet potatoes, we can also take away 115.8 shillings from the household and they would be just as well off."
   ]
  }
 ],
 "metadata": {
  "kernelspec": {
   "display_name": "Python 3",
   "language": "python",
   "name": "python3"
  },
  "language_info": {
   "codemirror_mode": {
    "name": "ipython",
    "version": 3
   },
   "file_extension": ".py",
   "mimetype": "text/x-python",
   "name": "python",
   "nbconvert_exporter": "python",
   "pygments_lexer": "ipython3",
   "version": "3.6.7"
  },
  "org": null
 },
 "nbformat": 4,
 "nbformat_minor": 1
}
