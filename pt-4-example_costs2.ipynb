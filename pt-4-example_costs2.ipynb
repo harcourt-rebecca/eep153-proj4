{
 "cells": [
  {
   "cell_type": "markdown",
   "metadata": {},
   "source": [
    "## Preface\n",
    "\n"
   ]
  },
  {
   "cell_type": "markdown",
   "metadata": {},
   "source": [
    "First, install `CFEDemand` package if necessary:\n",
    "\n"
   ]
  },
  {
   "cell_type": "code",
   "execution_count": 1,
   "metadata": {},
   "outputs": [
    {
     "name": "stdout",
     "output_type": "stream",
     "text": [
      "Requirement already up-to-date: CFEDemands in /srv/app/venv/lib/python3.6/site-packages\r\n"
     ]
    }
   ],
   "source": [
    "!pip install CFEDemands --upgrade"
   ]
  },
  {
   "cell_type": "markdown",
   "metadata": {},
   "source": [
    "## Compensated Policy Experiments\n",
    "\n"
   ]
  },
  {
   "cell_type": "markdown",
   "metadata": {},
   "source": [
    "Compare Marshallian (uncompensated) and Hicksian (compensated)\n",
    "demands:\n",
    "\n"
   ]
  },
  {
   "cell_type": "code",
   "execution_count": 2,
   "metadata": {},
   "outputs": [
    {
     "name": "stdout",
     "output_type": "stream",
     "text": [
      "Requirement already satisfied: CFEDemands in /srv/app/venv/lib/python3.6/site-packages\r\n"
     ]
    }
   ],
   "source": [
    "!pip install CFEDemands\n",
    "import cfe\n",
    "import numpy as np\n",
    "import pandas as pd\n",
    "import matplotlib.pyplot as plt\n",
    "\n",
    "USE = \"Tanzania\"\n",
    "\n",
    "if USE==\"Tanzania\":\n",
    "    DIR = \"./TanzanianNPS/\"\n",
    "    r = cfe.from_dataset(DIR+'tanzanian_nps.ds')\n",
    "    USE_GOOD = 'Sweet Potatoes'\n",
    "else:\n",
    "    raise ValueError(\"No such value of USE\")\n",
    "\n",
    "fct = pd.read_csv('fct-full-fct-full.csv').dropna(how='all')\n",
    "fct.set_index('Item name', inplace= True)\n",
    "rda = pd.read_pickle(DIR+\"rda.df\")\n",
    "\n",
    "# Use prices, distribution of budgets from first round, first market:\n",
    "t = r.firstround  # First round\n",
    "m = r.coords['m'][0] # First market\n",
    "\n",
    "# Distribution of predicted total expenditures\n",
    "xhat = r.get_predicted_expenditures().sum('i')\n",
    "xhat = xhat.where(xhat>0,np.nan)\n",
    "\n",
    "# Note selection of prices for first period and first market\n",
    "p = r.prices.sel(t=t,m=m).fillna(1).copy()\n",
    "newp = pd.read_csv('final-prices-our-prices-1.csv')\n",
    "p.values = newp.iloc[:,0].values\n",
    "\n",
    "def my_prices(p0,p=p,i=USE_GOOD):\n",
    "    p = p.copy()\n",
    "    p.loc[i] = p0\n",
    "    return p\n",
    "\n",
    "# Now fix up FCT\n",
    "# Change some labels in fct\n",
    "d={'protein':'Protein',\n",
    "   'protein g':'Protein',\n",
    "   'fat':'Fat',\n",
    "   'energy_kcal':'Calories',\n",
    "   'energy kcal':'Calories',\n",
    "   'calcium':'Calcium',\n",
    "   'ca mg':'Calcium',\n",
    "   'betacarotene':'Betacarotene',\n",
    "   'thiamine':'Thiamine',\n",
    "   'riboflavin':'Riboflavin',\n",
    "   'niacin':'Niacin',\n",
    "   'iron':'Iron',\n",
    "   'fe mg':'Iron',\n",
    "   'ascorbic_total':'Ascorbic Acid',\n",
    "   'vit a ug':'Vitamin A',\n",
    "   'vit b6 mg':'Vitamin B6',\n",
    "   'vit b12 ug':'Vitamin B12',\n",
    "   'vit d ug':'Vitamin D',\n",
    "   'vit e ug':'Vitamin E',\n",
    "   'vit c mg':'Vitamin C',\n",
    "   'mg mg':'Magnesium',\n",
    "   'zn mg':'Zinc'}\n",
    "\n",
    "fct = fct.rename(columns=d) #[list(d.values())]\n",
    "\n",
    "# Fix capitalization (to match food labels)\n",
    "# Replace missing with zeros\n",
    "fct = fct.fillna(0)\n",
    "\n",
    "try:\n",
    "    fct.index = fct.index.droplevel('unit')\n",
    "except AttributeError: pass # No units?\n",
    "\n",
    "def nutrient_demand(x,p,z=None):\n",
    "    c = r.demands(x,p,z=z)\n",
    "    fct0,c0 = fct.align(c,axis=0,join='inner')\n",
    "    fct0= fct0.replace(np.nan,0)\n",
    "    N = fct0.T@c0\n",
    "\n",
    "    return N\n",
    "\n",
    "# In first round, averaged over households and villages, zbar is the average household but in our own experiements can \n",
    "# make zbar equal to households only with children\n",
    "zbar = r.z.sel(t=r.firstround).mean(['j','m'])[:-1] # Leave out log HSize\n",
    "\n",
    "# This matrix product gives minimum nutrient requirements for average\n",
    "# household in first round\n",
    "hh_rda = rda.replace('',0).T@zbar\n",
    "\n",
    "def nutrient_adequacy_ratio(x,p):\n",
    "    return nutrient_demand(x,p)/hh_rda\n",
    "\n",
    "UseNutrients = ['Protein','Calories','Iron','Calcium']\n",
    "x0 = 6311 #Household median budget\n",
    "X = np.linspace(x0/10,x0*5,50)\n",
    "\n",
    "# Choose reference (t,m) for reference good\n",
    "ref_price = r.prices.sel(i=USE_GOOD,t=t,m=m)\n",
    "P = np.linspace(ref_price/10,ref_price*5,50)"
   ]
  },
  {
   "cell_type": "code",
   "execution_count": 3,
   "metadata": {},
   "outputs": [
    {
     "data": {
      "text/plain": [
       "Text(0.5, 1.0, 'Marshallian and Hicksian Demands')"
      ]
     },
     "execution_count": 3,
     "metadata": {},
     "output_type": "execute_result"
    },
    {
     "data": {
      "image/png": "[encoded data removed]",
      "text/plain": [
       "<Figure size 432x288 with 1 Axes>"
      ]
     },
     "metadata": {
      "needs_background": "light"
     },
     "output_type": "display_data"
    }
   ],
   "source": [
    "USE_GOOD = 'Sweet Potatoes'\n",
    "\n",
    "U0 = r.indirect_utility(x0,p)\n",
    "\n",
    "plt.plot([r.demands(x0,my_prices(p0,i=USE_GOOD))[USE_GOOD] for p0 in P],P)\n",
    "plt.plot([r.demands(U0,my_prices(p0,i=USE_GOOD),type=\"Hicksian\")[USE_GOOD] for p0 in P],P)\n",
    "plt.ylabel('Price')\n",
    "plt.xlabel(USE_GOOD)\n",
    "plt.axhline(p.sel(i=USE_GOOD).values)\n",
    "plt.legend((\"Marshallian\",\"Hicksian\"))\n",
    "plt.title(\"Marshallian and Hicksian Demands\")"
   ]
  },
  {
   "cell_type": "markdown",
   "metadata": {},
   "source": [
    "**Income effect is not as large since milk is not a hugely important component of household consumption.\n",
    "At prices increase, people will consumer less rice and there will be a bigger income effect.\n",
    "Horizontal difference between the two curves is the income effect"
   ]
  },
  {
   "cell_type": "markdown",
   "metadata": {},
   "source": [
    "Define some useful functions for measuring costs:\n",
    "\n"
   ]
  },
  {
   "cell_type": "code",
   "execution_count": 4,
   "metadata": {},
   "outputs": [],
   "source": [
    "def compensating_variation(U0,p0,p1):\n",
    "    x0 = r.expenditure(U0,p0)\n",
    "    x1 = r.expenditure(U0,p1)\n",
    "    return x1-x0\n",
    "\n",
    "def revenue(U0,p0,p1,type='Marshallian'):\n",
    "    #(Un)Compensated revenue from taxes changing vector of prices from p0 to p1.\n",
    "    #Note that this is only for *demand* side (i.e., if supply perfectly elastic).\n",
    "    \n",
    "    dp = p1 - p0 # Change in prices\n",
    "    return dp.T@r.demands(U0,p1,type=type)\n",
    "\n",
    "\n",
    "def deadweight_loss(U0,p0,p1):\n",
    "    #Deadweight loss of tax/subsidy scheme creating wedge in prices from p0 to p1.\n",
    "    #Note that this is only for *demand* side (i.e., if supply perfectly elastic).\n",
    "  \n",
    "    cv = compensating_variation(U0,p0,p1)\n",
    "    return revenue(U0,p0,p1,type='Hicksian') - cv\n",
    "    \n",
    "def compensated_nutrient_demand(U,p,z=None):\n",
    "    c = r.demands(U,p,z=z,type='Hicksian')\n",
    "    fct0,c0 = fct.align(c,axis=0,join='inner')\n",
    "    N = fct0.T@c0\n",
    "    return N\n",
    "\n",
    "def compensated_nutrient_adequacy_ratio(U,p):\n",
    "    return compensated_nutrient_demand(U,p)/hh_rda"
   ]
  },
  {
   "cell_type": "code",
   "execution_count": null,
   "metadata": {},
   "outputs": [
    {
     "data": {
      "text/plain": [
       "Text(0.5, 1.0, 'Sweet Potato Price Vs. log NAR')"
      ]
     },
     "execution_count": 5,
     "metadata": {},
     "output_type": "execute_result"
    },
    {
     "data": {
      "image/png": "[encoded data removed]",
      "text/plain": [
       "<Figure size 432x288 with 1 Axes>"
      ]
     },
     "metadata": {
      "needs_background": "light"
     },
     "output_type": "display_data"
    }
   ],
   "source": [
    "fig,ax2 = plt.subplots()\n",
    "ax2.set_ylabel('log NAR')\n",
    "ax2.plot(P,[np.log(compensated_nutrient_adequacy_ratio(U0,my_prices(p0))[UseNutrients]) for p0 in P])\n",
    "ax2.legend(UseNutrients)\n",
    "ax2.axhline(0)\n",
    "ax2.set_xlabel(\"Price of %s\" % USE_GOOD)\n",
    "plt.title('Sweet Potato Price Vs. log NAR')"
   ]
  },
  {
   "cell_type": "code",
   "execution_count": null,
   "metadata": {},
   "outputs": [
    {
     "data": {
      "text/plain": [
       "Text(0.5, 1.0, 'Compensating Variation Vs. Revenue')"
      ]
     },
     "execution_count": 6,
     "metadata": {},
     "output_type": "execute_result"
    }
   ],
   "source": [
    "fig, ax1 = plt.subplots()\n",
    "\n",
    "ax1.plot(P,[compensating_variation(U0,p,my_prices(p0)) for p0 in P])\n",
    "ax1.set_xlabel(\"Price of %s\" % USE_GOOD)\n",
    "ax1.set_ylabel(\"Compensating Variation\")\n",
    "\n",
    "ax1.plot(P,[revenue(U0,p,my_prices(p0)) for p0 in P],'k')\n",
    "ax1.legend(('Compensating Variation','Revenue'))\n",
    "ax1.axhline(0)\n",
    "ax1.axvline(p.loc[USE_GOOD])\n",
    "plt.title('Compensating Variation Vs. Revenue')"
   ]
  },
  {
   "cell_type": "markdown",
   "metadata": {},
   "source": [
    "Increase price of rice - need to compensate more but not in a linear way (slower than rate at which price is increasing) since demand is not completely elastic\n",
    "lines are very close when price 1.75-5 since demand is inelastic for those prices\n",
    "can raise prices to 5 and it would be efficient \n",
    "subsidize goods that give more nutrients"
   ]
  }
 ],
 "metadata": {
  "kernelspec": {
   "display_name": "Python 3",
   "language": "python",
   "name": "python3"
  },
  "language_info": {
   "codemirror_mode": {
    "name": "ipython",
    "version": 3
   },
   "file_extension": ".py",
   "mimetype": "text/x-python",
   "name": "python",
   "nbconvert_exporter": "python",
   "pygments_lexer": "ipython3",
   "version": "3.6.7"
  },
  "org": null
 },
 "nbformat": 4,
 "nbformat_minor": 1
}
